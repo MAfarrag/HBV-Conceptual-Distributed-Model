{
 "cells": [
  {
   "cell_type": "markdown",
   "id": "48fff0da-2d7a-49ea-ba13-d4768a89bae0",
   "metadata": {},
   "source": [
    "# Download Satellite data"
   ]
  },
  {
   "cell_type": "markdown",
   "id": "2c773dd4-6dc6-4c86-aeed-ad82b6118ccb",
   "metadata": {},
   "source": [
    "## ECMWF"
   ]
  },
  {
   "cell_type": "markdown",
   "id": "7ac42c26-f454-40e5-8dc2-668efbc2d02b",
   "metadata": {},
   "source": [
    "### Installation of ECMWF API key"
   ]
  },
  {
   "cell_type": "markdown",
   "id": "ad7c9c5c-ed4c-41b7-afdb-40fb471e015b",
   "metadata": {},
   "source": [
    "1 - to be able to use Hapi to download ECMWF data you need to register and setup your account in the ECMWF website (https://apps.ecmwf.int/registration/)\n",
    "\n",
    "2 - Install ECMWF key (instruction are here https://confluence.ecmwf.int/display/WEBAPI/Access+ECMWF+Public+Datasets#AccessECMWFPublicDatasets-key)"
   ]
  },
  {
   "cell_type": "markdown",
   "id": "f3d80671-55eb-4915-990b-78f1dcc4e0d1",
   "metadata": {},
   "source": [
    "### Using ResmoteSensing module from Hapi "
   ]
  },
  {
   "cell_type": "code",
   "execution_count": 7,
   "id": "9d733330-95bb-42b4-b6f5-895119345222",
   "metadata": {},
   "outputs": [],
   "source": [
    "from Hapi.remotesensing import RemoteSensing as RS\n",
    "from Hapi.remotesensing import Variables"
   ]
  },
  {
   "cell_type": "markdown",
   "id": "bc750181-4a25-48f1-b510-ee834484b7c9",
   "metadata": {},
   "source": [
    "For the information about the ECMWF data https://apps.ecmwf.int/codes/grib/param-db/\n",
    "ECMWP data are represented ar variables to know the name of the variable you want to download you can check the object `Variables`\n",
    "\n",
    "`Variables` contains the tame of the variable you need to give to the `ECMWF` object to get and the unit and description\n"
   ]
  },
  {
   "cell_type": "code",
   "execution_count": 8,
   "id": "35bb343d-4354-43e2-82ea-6ebf14aa3615",
   "metadata": {},
   "outputs": [
    {
     "name": "stdout",
     "output_type": "stream",
     "text": [
      "Variable name:\n",
      "{'T': 't', '2T': 't2m', 'SRO': 'sro', 'SSRO': 'ssro', 'WIND': 'wind', '10SI': '10si', 'SP': 'sp', 'Q': 'q', 'SSR': 'ssr', 'R': 'r', 'E': 'e', 'SUND': 'sund', 'RO': 'ro', 'TP': 'tp', '10U': 'u10', '10V': 'v10', '2D': 'd2m', 'SR': 'sr', 'AL': 'al', 'HCC': 'hcc'}\n",
      "Descriptions\n",
      "{'T': 'Temperature [K]', '2T': '2 meter Temperature [K]', 'SRO': 'Surface Runoff [m]', 'SSRO': 'Sub-surface Runoff [m]', 'WIND': 'Wind speed [m s-1]', '10SI': '10 metre windspeed [m s-1]', 'SP': 'Surface Pressure [pa]', 'Q': 'Specific humidity [kg kg-1]', 'SSR': 'Surface solar radiation [W m-2 s]', 'R': 'Relative humidity [%]', 'E': 'Evaporation [m of water]', 'SUND': 'Sunshine duration [s]', 'RO': 'Runoff [m]', 'TP': 'Total Precipitation [m]', '10U': '10 metre U wind component [m s-1]', '10V': '10 metre V wind component [m s-1]', '2D': '2 metre dewpoint temperature [K]', 'SR': 'Surface roughness [m]', 'AL': 'Albedo []', 'HCC': 'High cloud cover []'}\n",
      "Units : \n",
      "{'T': 'C', '2T': 'C', 'SRO': 'mm', 'SSRO': 'mm', 'WIND': 'm_s-1', '10SI': 'm_s-1', 'SP': 'kpa', 'Q': 'kg_kg-1', 'SSR': 'W_m-2_s', 'R': 'percentage', 'E': 'mm', 'SUND': 's', 'RO': 'mm', 'TP': 'mm', '10U': 'm_s-1', '10V': 'm_s-1', '2D': 'C', 'SR': 'm', 'AL': '-', 'HCC': '-'}\n"
     ]
    }
   ],
   "source": [
    "Vars = Variables('daily')\n",
    "Vars.__str__()"
   ]
  },
  {
   "cell_type": "markdown",
   "id": "0a2a6ca8-a09b-47b8-b97e-8d1c1e11c561",
   "metadata": {},
   "source": [
    "### Inputs"
   ]
  },
  {
   "cell_type": "markdown",
   "id": "be829713-e3bb-442e-a2b1-5dfffb46b028",
   "metadata": {},
   "source": [
    "- After selecting the variable, temperature and evapotranspiration ['E','T']\n",
    "\n",
    "- You need to provide the period you want to download the data for knowing that the beginning of the data is 1979.01.01 and the end is 2019.08.01\n",
    "     lets say we need the data between '2009-01-01' and '2009-02-01'\n",
    "- then we need to provide the extent in the form of latitude and longitude\n",
    "    for out case stude `Coello` those are lat = [4.19,4.64] and lon = [-75.64,-74.72]\n",
    "- make sure the the directory is set to the Example folder in the repository"
   ]
  },
  {
   "cell_type": "code",
   "execution_count": 13,
   "id": "c73ad20b-e8cd-4a0e-9107-12a2cfbac207",
   "metadata": {},
   "outputs": [],
   "source": [
    "StartDate = '2009-01-01'\n",
    "EndDate = '2009-01-10'\n",
    "Time = 'daily'\n",
    "lat = [4.190755,4.643963]\n",
    "lon = [-75.649243,-74.727286]\n",
    "Path = \"/data/satellite_data/\"\n",
    "# Temperature, Evapotranspiration\n",
    "variables = ['T','E']"
   ]
  },
  {
   "cell_type": "code",
   "execution_count": 14,
   "id": "405220ce-2d9b-4cee-9137-ee639153ef64",
   "metadata": {},
   "outputs": [
    {
     "name": "stdout",
     "output_type": "stream",
     "text": [
      "\n",
      "Download ECMWF T data for period 2009-01-01 00:00:00 till 2009-01-10 00:00:00\n",
      "Use API ECMWF to collect the data, please wait\n",
      "2021-04-14 08:49:16 ECMWF API python library 1.6.1\n",
      "2021-04-14 08:49:16 ECMWF API at https://api.ecmwf.int/v1\n",
      "2021-04-14 08:49:16 Welcome Mostafa Farrag\n",
      "2021-04-14 08:49:17 In case of problems, please check https://confluence.ecmwf.int/display/WEBAPI/Web+API+FAQ or contact servicedesk@ecmwf.int\n",
      "2021-04-14 08:49:18 Request submitted\n",
      "2021-04-14 08:49:18 Request id: 6076906ea0eaf4a08b9e06eb\n",
      "2021-04-14 08:49:18 Request is submitted\n",
      "2021-04-14 08:49:19 Request is active\n",
      "Calling 'nice mars /tmp/20210414-0640/6f/tmp-_marsqN8mD4.req'\n",
      "mars - WARN -\n",
      "mars - WARN - From 29 January 2019 10AM (UTC) MARS uses the interpolation\n",
      "mars - WARN - provided by the MIR library. For more details, see\n",
      "mars - WARN - https://confluence.ecmwf.int/display/UDOC/MARS+interpolation+with+MIR\n",
      "mars - WARN -\n",
      "MIR environment variables:\n",
      "MIR_CACHE_PATH=/data/ec_coeff\n",
      "mars - INFO   - 20210414.064919 - Welcome to MARS\n",
      "mars - INFO   - 20210414.064919 - MARS Client bundle version: 6.28.6.1\n",
      "mars - INFO   - 20210414.064919 - MARS Client package version: 6.28.6\n",
      "mars - INFO   - 20210414.064919 - MARS Client build stamp: 20200717102127\n",
      "mars - INFO   - 20210414.064919 - MIR version: 1.4.7\n",
      "mars - INFO   - 20210414.064919 - Using ecCodes version 2.18.0\n",
      "mars - INFO   - 20210414.064919 - Using odb_api version: 0.15.11 (file format version: 0.5)\n",
      "mars - INFO   - 20210414.064919 - Using FDB5 version: 5.6.1\n",
      "mars - INFO   - 20210414.064919 - Maximum retrieval size is 50.00 G\n",
      "retrieve,levelist=1000,stream=oper,area=4.75/-75.75/4.125/-74.625,levtype=pl,param=130.128,padding=0,step=0,grid=0.125/0.125,expver=0001,time=00:00:00/06:00:00/12:00:00/18:00:00,date=2009-01-01 00:00:00/to/2009-01-10 00:00:00,type=an,class=eimars - WARN   - 20210414.064919 - For full resolution grid, it is recommended to use RESOL=AV to prevent any truncation before transformation\n",
      "mars - INFO   - 20210414.064919 - Automatic split by date is on\n",
      "\n",
      "mars - INFO   - 20210414.064919 - Processing request 1\n",
      "sh: /usr/bin/mailx: No such file or directory\n",
      "\n",
      "RETRIEVE,\n",
      "    CLASS      = EI,\n",
      "    TYPE       = AN,\n",
      "    STREAM     = OPER,\n",
      "    EXPVER     = 0001,\n",
      "    REPRES     = SH,\n",
      "    LEVTYPE    = PL,\n",
      "    LEVELIST   = 1000,\n",
      "    PARAM      = 130.128,\n",
      "    TIME       = 0000/0600/1200/1800,\n",
      "    STEP       = 0,\n",
      "    DOMAIN     = G,\n",
      "    RESOL      = AUTO,\n",
      "    AREA       = 4.75/-75.75/4.125/-74.625,\n",
      "    GRID       = 0.125/0.125,\n",
      "    PADDING    = 0,\n",
      "    DATE       = 20090101/20090102/20090103/20090104/20090105/20090106/20090107/20090108/20090109/20090110\n",
      "\n",
      "mars - INFO   - 20210414.064919 - Web API request id: 6076906ea0eaf4a08b9e06eb\n",
      "mars - INFO   - 20210414.064919 - Requesting 40 fields\n",
      "mars - INFO   - 20210414.064919 - Calling mars on 'marser', local port is 43291\n",
      "mars - INFO   - 20210414.064919 - Server task is 275 [marser]\n",
      "mars - INFO   - 20210414.064919 - Request cost: 40 fields, 5.05913 Mbytes online, nodes: mvr02 [marser]\n",
      "mars - INFO   - 20210414.064919 - The efficiency of your requests in the last 12 hours is 100% [marser]\n",
      "mars - INFO   - 20210414.064919 - Transfering 5304880 bytes\n",
      "mars - INFO   - 20210414.064919 - ShToGridded: loading Legendre coefficients '/data/ec_coeff/mir/legendre/4/local-T255-GaussianN256-OPT4189816c2e.leg'\n",
      "mars - INFO   - 20210414.064920 - 40 fields retrieved from 'marser'\n",
      "mars - INFO   - 20210414.064920 - 40 fields have been interpolated\n",
      "mars - INFO   - 20210414.064921 - Request time:  wall: 1 sec  cpu: 1 sec\n",
      "mars - INFO   - 20210414.064921 -   Read from network: 5.06 Mbyte(s) in < 1 sec [243.11 Mbyte/sec]\n",
      "mars - INFO   - 20210414.064921 -   Visiting marser: wall: 1 sec\n",
      "mars - INFO   - 20210414.064921 -   Post-processing: wall: 1 sec\n",
      "mars - INFO   - 20210414.064921 -   Writing to target file: 8.91 Kbyte(s) in < 1 sec [137.62 Kbyte/sec]\n",
      "mars - INFO   - 20210414.064921 - Memory used: 44.19 Mbyte(s)\n",
      "mars - INFO   - 20210414.064921 - No errors reported\n",
      "Process '['nice', 'mars', '/tmp/20210414-0640/6f/tmp-_marsqN8mD4.req']' finished\n",
      "Calling 'nice grib_to_netcdf /data/scratch/20210414-0640/12/_mars-webmars-public-svc-green-006-6fe5cac1a363ec1525f54343b6cc9fd8-6ybWzM.grib -o /data/scratch/20210414-0640/fb/_grib2netcdf-webmars-public-svc-green-001-6fe5cac1a363ec1525f54343b6cc9fd8-zJcOOS.nc -utime'\n",
      "grib_to_netcdf: Version 2.21.0\n",
      "grib_to_netcdf: Processing input file '/data/scratch/20210414-0640/12/_mars-webmars-public-svc-green-006-6fe5cac1a363ec1525f54343b6cc9fd8-6ybWzM.grib'.\n",
      "grib_to_netcdf: Found 40 GRIB fields in 1 file.\n",
      "grib_to_netcdf: Ignoring key(s): method, type, stream, refdate, hdate\n",
      "grib_to_netcdf: Creating netCDF file '/data/scratch/20210414-0640/fb/_grib2netcdf-webmars-public-svc-green-001-6fe5cac1a363ec1525f54343b6cc9fd8-zJcOOS.nc'\n",
      "grib_to_netcdf: NetCDF library version: 4.3.3.1 of Dec 10 2015 16:44:18 $\n",
      "grib_to_netcdf: Creating large (64 bit) file format.\n",
      "grib_to_netcdf: Defining variable 't'.\n",
      "grib_to_netcdf: Done.\n",
      "Process '['nice', 'grib_to_netcdf', '/data/scratch/20210414-0640/12/_mars-webmars-public-svc-green-006-6fe5cac1a363ec1525f54343b6cc9fd8-6ybWzM.grib', '-o', '/data/scratch/20210414-0640/fb/_grib2netcdf-webmars-public-svc-green-001-6fe5cac1a363ec1525f54343b6cc9fd8-zJcOOS.nc', '-utime']' finished\n",
      "2021-04-14 08:49:24 Request is complete\n",
      "2021-04-14 08:49:24 Transfering 5.97656 Kbytes into data_interim.nc\n",
      "2021-04-14 08:49:24 From https://stream.ecmwf.int/data/webmars-public-svc-green-001/data/scratch/20210414-0640/fb/_grib2netcdf-webmars-public-svc-green-001-6fe5cac1a363ec1525f54343b6cc9fd8-zJcOOS.nc\n",
      "2021-04-14 08:49:25 Transfer rate 27.1675 Kbytes/s\n",
      "Progress: |██████████████████████████████████████████████████| 100.0% Complete\n",
      "\n",
      "Download ECMWF E data for period 2009-01-01 00:00:00 till 2009-01-10 00:00:00\n",
      "Use API ECMWF to collect the data, please wait\n",
      "2021-04-14 08:49:25 ECMWF API python library 1.6.1\n",
      "2021-04-14 08:49:25 ECMWF API at https://api.ecmwf.int/v1\n",
      "2021-04-14 08:49:25 Welcome Mostafa Farrag\n",
      "2021-04-14 08:49:26 In case of problems, please check https://confluence.ecmwf.int/display/WEBAPI/Web+API+FAQ or contact servicedesk@ecmwf.int\n",
      "2021-04-14 08:49:26 Request submitted\n",
      "2021-04-14 08:49:26 Request id: 60769077ae40f0838fdd671d\n",
      "2021-04-14 08:49:26 Request is submitted\n",
      "2021-04-14 08:49:28 Request is active\n",
      "Calling 'nice mars /tmp/20210414-0640/cd/tmp-_mars3PwTR_.req'\n",
      "mars - WARN -\n",
      "mars - WARN - From 29 January 2019 10AM (UTC) MARS uses the interpolation\n",
      "mars - WARN - provided by the MIR library. For more details, see\n",
      "mars - WARN - https://confluence.ecmwf.int/display/UDOC/MARS+interpolation+with+MIR\n",
      "mars - WARN -\n",
      "MIR environment variables:\n",
      "MIR_CACHE_PATH=/data/ec_coeff\n",
      "mars - INFO   - 20210414.064928 - Welcome to MARS\n",
      "mars - INFO   - 20210414.064928 - MARS Client bundle version: 6.28.6.1\n",
      "mars - INFO   - 20210414.064928 - MARS Client package version: 6.28.6\n",
      "mars - INFO   - 20210414.064928 - MARS Client build stamp: 20200717102127\n",
      "mars - INFO   - 20210414.064928 - MIR version: 1.4.7\n",
      "mars - INFO   - 20210414.064928 - Using ecCodes version 2.18.0\n",
      "mars - INFO   - 20210414.064928 - Using odb_api version: 0.15.11 (file format version: 0.5)\n",
      "mars - INFO   - 20210414.064928 - Using FDB5 version: 5.6.1\n",
      "mars - INFO   - 20210414.064928 - Maximum retrieval size is 50.00 G\n",
      "retrieve,stream=oper,area=4.75/-75.75/4.125/-74.625,levtype=sfc,param=182.128,padding=0,step=12,grid=0.125/0.125,expver=0001,time=00:00:00/12:00:00,date=2009-01-01 00:00:00/to/2009-01-10 00:00:00,type=fc,class=eimars - WARN   - 20210414.064928 - For full resolution grid, it is recommended to use RESOL=AV to prevent any truncation before transformation\n",
      "mars - INFO   - 20210414.064928 - Automatic split by date is on\n",
      "\n",
      "mars - INFO   - 20210414.064928 - Processing request 1\n",
      "sh: /usr/bin/mailx: No such file or directory\n",
      "\n",
      "RETRIEVE,\n",
      "    CLASS      = EI,\n",
      "    TYPE       = FC,\n",
      "    STREAM     = OPER,\n",
      "    EXPVER     = 0001,\n",
      "    REPRES     = SH,\n",
      "    LEVTYPE    = SFC,\n",
      "    PARAM      = 182.128,\n",
      "    TIME       = 0000/1200,\n",
      "    STEP       = 12,\n",
      "    DOMAIN     = G,\n",
      "    RESOL      = AUTO,\n",
      "    AREA       = 4.75/-75.75/4.125/-74.625,\n",
      "    GRID       = 0.125/0.125,\n",
      "    PADDING    = 0,\n",
      "    DATE       = 20090101/20090102/20090103/20090104/20090105/20090106/20090107/20090108/20090109/20090110\n",
      "\n",
      "mars - INFO   - 20210414.064928 - Web API request id: 60769077ae40f0838fdd671d\n",
      "mars - INFO   - 20210414.064928 - Requesting 20 fields\n",
      "mars - INFO   - 20210414.064928 - Calling mars on 'marser', local port is 49618\n",
      "mars - INFO   - 20210414.064928 - Server task is 597 [marser]\n",
      "mars - INFO   - 20210414.064928 - Request cost: 20 fields, 3.40073 Mbytes online, nodes: mvr02 [marser]\n",
      "mars - INFO   - 20210414.064928 - The efficiency of your requests in the last 12 hours is 100% [marser]\n",
      "mars - INFO   - 20210414.064928 - Transfering 3565920 bytes\n",
      "mars - INFO   - 20210414.064928 - 20 fields retrieved from 'marser'\n",
      "mars - INFO   - 20210414.064928 - 20 fields have been interpolated\n",
      "mars - INFO   - 20210414.064928 -   Read from network: 3.40 Mbyte(s) in < 1 sec [241.51 Mbyte/sec]\n",
      "mars - INFO   - 20210414.064928 -   Writing to target file: 4.45 Kbyte(s) in < 1 sec [160.97 Kbyte/sec]\n",
      "mars - INFO   - 20210414.064928 - Memory used: 36.57 Mbyte(s)\n",
      "mars - INFO   - 20210414.064928 - No errors reported\n",
      "Process '['nice', 'mars', '/tmp/20210414-0640/cd/tmp-_mars3PwTR_.req']' finished\n",
      "Calling 'nice grib_to_netcdf /data/scratch/20210414-0640/91/_mars-webmars-public-svc-green-005-6fe5cac1a363ec1525f54343b6cc9fd8-T30_G5.grib -o /data/scratch/20210414-0640/26/_grib2netcdf-webmars-public-svc-green-003-6fe5cac1a363ec1525f54343b6cc9fd8-VLdrgk.nc -utime'\n",
      "grib_to_netcdf: Version 2.21.0\n",
      "grib_to_netcdf: Processing input file '/data/scratch/20210414-0640/91/_mars-webmars-public-svc-green-005-6fe5cac1a363ec1525f54343b6cc9fd8-T30_G5.grib'.\n",
      "grib_to_netcdf: Found 20 GRIB fields in 1 file.\n",
      "grib_to_netcdf: Ignoring key(s): method, type, stream, refdate, hdate\n",
      "grib_to_netcdf: Creating netCDF file '/data/scratch/20210414-0640/26/_grib2netcdf-webmars-public-svc-green-003-6fe5cac1a363ec1525f54343b6cc9fd8-VLdrgk.nc'\n",
      "grib_to_netcdf: NetCDF library version: 4.3.3.1 of Dec 10 2015 16:44:18 $\n",
      "grib_to_netcdf: Creating large (64 bit) file format.\n",
      "grib_to_netcdf: Defining variable 'e'.\n",
      "grib_to_netcdf: Done.\n",
      "Process '['nice', 'grib_to_netcdf', '/data/scratch/20210414-0640/91/_mars-webmars-public-svc-green-005-6fe5cac1a363ec1525f54343b6cc9fd8-T30_G5.grib', '-o', '/data/scratch/20210414-0640/26/_grib2netcdf-webmars-public-svc-green-003-6fe5cac1a363ec1525f54343b6cc9fd8-VLdrgk.nc', '-utime']' finished\n",
      "2021-04-14 08:49:33 Request is complete\n",
      "2021-04-14 08:49:33 Transfering 3.60156 Kbytes into data_interim.nc\n",
      "2021-04-14 08:49:33 From https://stream.ecmwf.int/data/webmars-public-svc-green-003/data/scratch/20210414-0640/26/_grib2netcdf-webmars-public-svc-green-003-6fe5cac1a363ec1525f54343b6cc9fd8-VLdrgk.nc\n",
      "2021-04-14 08:49:33 Transfer rate 18.1894 Kbytes/s\n",
      "Progress: |██████████████████████████████████████████████████| 100.0% Complete\n"
     ]
    }
   ],
   "source": [
    "Coello = RS(StartDate=StartDate, EndDate=EndDate, Time=Time,\n",
    "            latlim=lat , lonlim=lon, Path=Path, Vars=variables)\n",
    "\n",
    "Coello.ECMWF(Waitbar=1)"
   ]
  },
  {
   "cell_type": "markdown",
   "id": "195e57ae-6345-45a4-a461-865734bafd73",
   "metadata": {},
   "source": [
    "## CHIRPS"
   ]
  },
  {
   "cell_type": "markdown",
   "id": "358e0726-28fb-4200-9674-9d0754b308cd",
   "metadata": {},
   "source": [
    "Using the same inputs (period and extent) CHRIPS data does not deen any registration"
   ]
  },
  {
   "cell_type": "code",
   "execution_count": 5,
   "id": "bf101450-3e00-4572-a50c-673a267996c7",
   "metadata": {},
   "outputs": [],
   "source": [
    "from Hapi.remotesensing import CHIRPS"
   ]
  },
  {
   "cell_type": "code",
   "execution_count": 6,
   "id": "e9ab20a1-786f-4692-913e-94f2f85b0281",
   "metadata": {},
   "outputs": [
    {
     "name": "stdout",
     "output_type": "stream",
     "text": [
      "Progress: |██████████████████████████████████████████████████| 100.0% Complete\n"
     ]
    },
    {
     "data": {
      "text/plain": [
       "True"
      ]
     },
     "execution_count": 6,
     "metadata": {},
     "output_type": "execute_result"
    }
   ],
   "source": [
    "Coello = CHIRPS(StartDate=StartDate, EndDate=EndDate, Time=Time,\n",
    "            latlim=lat , lonlim=lon, Path=Path)\n",
    "Coello.Download()"
   ]
  },
  {
   "cell_type": "markdown",
   "id": "2a2dbda9-82f9-44c3-9d0f-c9b330ae880a",
   "metadata": {},
   "source": [
    "### Parallel download\n",
    "- As the CHRIPS data are downloaded directly from ftp server, so several downloads can be done at the same time\n",
    "- to choose how many cores to be used in the parallelization, you have to provide the parameter `core`\n",
    "- there is no indication bar in case of parallel downloads"
   ]
  },
  {
   "cell_type": "code",
   "execution_count": null,
   "id": "9d0cfa73-938e-4334-b8cf-9ebc50ddaa81",
   "metadata": {},
   "outputs": [],
   "source": [
    "Coello.Download(cores=4)"
   ]
  }
 ],
 "metadata": {
  "kernelspec": {
   "display_name": "Python 3",
   "language": "python",
   "name": "python3"
  },
  "language_info": {
   "codemirror_mode": {
    "name": "ipython",
    "version": 3
   },
   "file_extension": ".py",
   "mimetype": "text/x-python",
   "name": "python",
   "nbconvert_exporter": "python",
   "pygments_lexer": "ipython3",
   "version": "3.8.8"
  }
 },
 "nbformat": 4,
 "nbformat_minor": 5
}
