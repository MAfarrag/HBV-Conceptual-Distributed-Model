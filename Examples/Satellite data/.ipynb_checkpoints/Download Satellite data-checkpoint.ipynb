{
 "cells": [
  {
   "cell_type": "markdown",
   "id": "48fff0da-2d7a-49ea-ba13-d4768a89bae0",
   "metadata": {},
   "source": [
    "# Download Satellite data"
   ]
  },
  {
   "cell_type": "markdown",
   "id": "2c773dd4-6dc6-4c86-aeed-ad82b6118ccb",
   "metadata": {},
   "source": [
    "## ECMWF"
   ]
  },
  {
   "cell_type": "markdown",
   "id": "7ac42c26-f454-40e5-8dc2-668efbc2d02b",
   "metadata": {},
   "source": [
    "### Installation of ECMWF API key"
   ]
  },
  {
   "cell_type": "markdown",
   "id": "ad7c9c5c-ed4c-41b7-afdb-40fb471e015b",
   "metadata": {},
   "source": [
    "1 - to be able to use Hapi to download ECMWF data you need to register and setup your account in the ECMWF website (https://apps.ecmwf.int/registration/)\n",
    "\n",
    "2 - Install ECMWF key (instruction are here https://confluence.ecmwf.int/display/WEBAPI/Access+ECMWF+Public+Datasets#AccessECMWFPublicDatasets-key)"
   ]
  },
  {
   "cell_type": "markdown",
   "id": "f3d80671-55eb-4915-990b-78f1dcc4e0d1",
   "metadata": {},
   "source": [
    "### Using ResmoteSensing module from Hapi "
   ]
  },
  {
   "cell_type": "code",
   "execution_count": 2,
   "id": "9d733330-95bb-42b4-b6f5-895119345222",
   "metadata": {},
   "outputs": [],
   "source": [
    "from Hapi.remotesensing import RemoteSensing as RS\n",
    "from Hapi.remotesensing import Variables"
   ]
  },
  {
   "cell_type": "markdown",
   "id": "bc750181-4a25-48f1-b510-ee834484b7c9",
   "metadata": {},
   "source": [
    "For the information about the ECMWF data https://apps.ecmwf.int/codes/grib/param-db/\n",
    "ECMWP data are represented ar variables to know the name of the variable you want to download you can check the object `Variables`\n",
    "\n",
    "`Variables` contains the tame of the variable you need to give to the `ECMWF` object to get and the unit and description\n"
   ]
  },
  {
   "cell_type": "code",
   "execution_count": 3,
   "id": "35bb343d-4354-43e2-82ea-6ebf14aa3615",
   "metadata": {},
   "outputs": [
    {
     "name": "stdout",
     "output_type": "stream",
     "text": [
      "Variable name:\n",
      "{'T': 't', '2T': 't2m', 'SRO': 'sro', 'SSRO': 'ssro', 'WIND': 'wind', '10SI': '10si', 'SP': 'sp', 'Q': 'q', 'SSR': 'ssr', 'R': 'r', 'E': 'e', 'SUND': 'sund', 'RO': 'ro', 'TP': 'tp', '10U': 'u10', '10V': 'v10', '2D': 'd2m', 'SR': 'sr', 'AL': 'al', 'HCC': 'hcc'}\n",
      "Descriptions\n",
      "{'T': 'Temperature [K]', '2T': '2 meter Temperature [K]', 'SRO': 'Surface Runoff [m]', 'SSRO': 'Sub-surface Runoff [m]', 'WIND': 'Wind speed [m s-1]', '10SI': '10 metre windspeed [m s-1]', 'SP': 'Surface Pressure [pa]', 'Q': 'Specific humidity [kg kg-1]', 'SSR': 'Surface solar radiation [W m-2 s]', 'R': 'Relative humidity [%]', 'E': 'Evaporation [m of water]', 'SUND': 'Sunshine duration [s]', 'RO': 'Runoff [m]', 'TP': 'Total Precipitation [m]', '10U': '10 metre U wind component [m s-1]', '10V': '10 metre V wind component [m s-1]', '2D': '2 metre dewpoint temperature [K]', 'SR': 'Surface roughness [m]', 'AL': 'Albedo []', 'HCC': 'High cloud cover []'}\n",
      "Units : \n",
      "{'T': 'C', '2T': 'C', 'SRO': 'mm', 'SSRO': 'mm', 'WIND': 'm_s-1', '10SI': 'm_s-1', 'SP': 'kpa', 'Q': 'kg_kg-1', 'SSR': 'W_m-2_s', 'R': 'percentage', 'E': 'mm', 'SUND': 's', 'RO': 'mm', 'TP': 'mm', '10U': 'm_s-1', '10V': 'm_s-1', '2D': 'C', 'SR': 'm', 'AL': '-', 'HCC': '-'}\n"
     ]
    }
   ],
   "source": [
    "Vars = Variables('daily')\n",
    "Vars.__str__()"
   ]
  },
  {
   "cell_type": "markdown",
   "id": "0a2a6ca8-a09b-47b8-b97e-8d1c1e11c561",
   "metadata": {},
   "source": [
    "### Inputs"
   ]
  },
  {
   "cell_type": "markdown",
   "id": "be829713-e3bb-442e-a2b1-5dfffb46b028",
   "metadata": {},
   "source": [
    "- After selecting the variable, temperature and evapotranspiration ['E','T']\n",
    "\n",
    "- You need to provide the period you want to download the data for knowing that the beginning of the data is 1979.01.01 and the end is 2019.08.01\n",
    "     lets say we need the data between '2009-01-01' and '2009-02-01'\n",
    "- then we need to provide the extent in the form of latitude and longitude\n",
    "    for out case stude `Coello` those are lat = [4.19,4.64] and lon = [-75.64,-74.72]"
   ]
  },
  {
   "cell_type": "code",
   "execution_count": 4,
   "id": "c73ad20b-e8cd-4a0e-9107-12a2cfbac207",
   "metadata": {},
   "outputs": [],
   "source": [
    "StartDate = '2009-01-01'\n",
    "EndDate = '2009-01-10'\n",
    "Time = 'daily'\n",
    "lat = [4.190755,4.643963]\n",
    "lon = [-75.649243,-74.727286]\n",
    "Path = \"../data/satellite_data/\"\n",
    "# Temperature, Evapotranspiration\n",
    "variables = ['T','E']"
   ]
  },
  {
   "cell_type": "code",
   "execution_count": null,
   "id": "405220ce-2d9b-4cee-9137-ee639153ef64",
   "metadata": {},
   "outputs": [],
   "source": [
    "Coello = RS(StartDate=StartDate, EndDate=EndDate, Time=Time,\n",
    "            latlim=lat , lonlim=lon, Path=Path, Vars=variables)\n",
    "\n",
    "Coello.ECMWF(Waitbar=1)"
   ]
  },
  {
   "cell_type": "markdown",
   "id": "195e57ae-6345-45a4-a461-865734bafd73",
   "metadata": {},
   "source": [
    "## CHIRPS"
   ]
  },
  {
   "cell_type": "markdown",
   "id": "358e0726-28fb-4200-9674-9d0754b308cd",
   "metadata": {},
   "source": [
    "Using the same inputs (period and extent) CHRIPS data does not deen any registration"
   ]
  },
  {
   "cell_type": "code",
   "execution_count": 5,
   "id": "bf101450-3e00-4572-a50c-673a267996c7",
   "metadata": {},
   "outputs": [],
   "source": [
    "from Hapi.remotesensing import CHIRPS"
   ]
  },
  {
   "cell_type": "code",
   "execution_count": null,
   "id": "e9ab20a1-786f-4692-913e-94f2f85b0281",
   "metadata": {},
   "outputs": [
    {
     "name": "stdout",
     "output_type": "stream",
     "text": [
      "Progress: |█████---------------------------------------------| 10.0% Complete"
     ]
    }
   ],
   "source": [
    "Coello = CHIRPS(StartDate=StartDate, EndDate=EndDate, Time=Time,\n",
    "            latlim=lat , lonlim=lon, Path=Path)\n",
    "Coello.Download()"
   ]
  },
  {
   "cell_type": "markdown",
   "id": "2a2dbda9-82f9-44c3-9d0f-c9b330ae880a",
   "metadata": {},
   "source": [
    "### Parallel download\n",
    "- As the CHRIPS data are downloaded directly from ftp server, so several downloads can be done at the same time\n",
    "- to choose how many cores to be used in the parallelization, you have to provide the parameter `core`\n",
    "- there is no indication bar in case of parallel downloads"
   ]
  },
  {
   "cell_type": "code",
   "execution_count": null,
   "id": "9d0cfa73-938e-4334-b8cf-9ebc50ddaa81",
   "metadata": {},
   "outputs": [],
   "source": [
    "Coello.Download(cores=4)"
   ]
  }
 ],
 "metadata": {
  "kernelspec": {
   "display_name": "Python 3",
   "language": "python",
   "name": "python3"
  },
  "language_info": {
   "codemirror_mode": {
    "name": "ipython",
    "version": 3
   },
   "file_extension": ".py",
   "mimetype": "text/x-python",
   "name": "python",
   "nbconvert_exporter": "python",
   "pygments_lexer": "ipython3",
   "version": "3.8.8"
  }
 },
 "nbformat": 4,
 "nbformat_minor": 5
}
