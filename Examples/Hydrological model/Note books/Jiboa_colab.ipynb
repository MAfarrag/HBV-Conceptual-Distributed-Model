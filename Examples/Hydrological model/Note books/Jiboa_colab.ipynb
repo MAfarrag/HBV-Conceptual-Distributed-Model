{
  "nbformat": 4,
  "nbformat_minor": 0,
  "metadata": {
    "colab": {
      "name": "Copy of 03Jiboa-colab.ipynb",
      "provenance": [],
      "collapsed_sections": [],
      "toc_visible": true,
      "include_colab_link": true
    },
    "kernelspec": {
      "display_name": "Python 3",
      "language": "python",
      "name": "python3"
    },
    "language_info": {
      "codemirror_mode": {
        "name": "ipython",
        "version": 3
      },
      "file_extension": ".py",
      "mimetype": "text/x-python",
      "name": "python",
      "nbconvert_exporter": "python",
      "pygments_lexer": "ipython3",
      "version": "3.7.4"
    }
  },
  "cells": [
    {
      "cell_type": "markdown",
      "metadata": {
        "id": "view-in-github",
        "colab_type": "text"
      },
      "source": [
        "<a href=\"https://colab.research.google.com/github/MAfarrag/Hapi/blob/master/Examples/Hydrological%20model/Note%20books/Jiboa_colab.ipynb\" target=\"_parent\"><img src=\"https://colab.research.google.com/assets/colab-badge.svg\" alt=\"Open In Colab\"/></a>"
      ]
    },
    {
      "cell_type": "markdown",
      "metadata": {
        "id": "M3wlmF0_eaWn"
      },
      "source": [
        "# Jiboa Case Study"
      ]
    },
    {
      "cell_type": "markdown",
      "metadata": {
        "id": "zf0ye029eaWq"
      },
      "source": [
        "This code is prepared to Run the distributed model for jiboa rover in El Salvador\n",
        "wher the catchment is consisted os a ustream lake and a volcanic area\n",
        "-   you have to make the root directory to the examples folder to enable the code\n",
        "    from reading input files"
      ]
    },
    {
      "cell_type": "code",
      "metadata": {
        "id": "gJacHz98PI2G"
      },
      "source": [
        "if (len(conda_path) == 0):\n",
        "    print('installing miniconda')\n",
        "    !wget https://repo.continuum.io/miniconda/Miniconda3-4.5.4-Linux-x86_64.sh && bash Miniconda3-4.5.4-Linux-x86_64.sh -bfp /usr/local\n",
        "    !conda update conda -y -q\n",
        "    !source /usr/local/etc/profile.d/conda.sh\n",
        "    !conda init \n",
        "    !conda install -n root _license -y -q\n",
        "else:\n",
        "    print('found miniconda')"
      ],
      "execution_count": null,
      "outputs": []
    },
    {
      "cell_type": "code",
      "metadata": {
        "colab": {
          "base_uri": "https://localhost:8080/"
        },
        "id": "XvnpMcZC2Ia9",
        "outputId": "663714a4-ce01-4d41-b99e-785f75d7194c"
      },
      "source": [
        "!pip install Hapi-Nile"
      ],
      "execution_count": 4,
      "outputs": [
        {
          "output_type": "stream",
          "text": [
            "Collecting Hapi-Nile\n",
            "  Downloading HAPI_Nile-1.0.4-py3-none-any.whl (16.8 MB)\n",
            "\u001b[K     |████████████████████████████████| 16.8 MB 210 kB/s \n",
            "\u001b[?25hInstalling collected packages: Hapi-Nile\n",
            "Successfully installed Hapi-Nile-1.0.4\n"
          ],
          "name": "stdout"
        }
      ]
    },
    {
      "cell_type": "code",
      "metadata": {
        "colab": {
          "base_uri": "https://localhost:8080/"
        },
        "id": "fV0qlpRW1SR1",
        "outputId": "3b7bd028-951f-4f53-ba10-9ce5da294d39"
      },
      "source": [
        ""
      ],
      "execution_count": 1,
      "outputs": [
        {
          "output_type": "stream",
          "text": [
            "/bin/bash: conda: command not found\n"
          ],
          "name": "stdout"
        }
      ]
    },
    {
      "cell_type": "code",
      "metadata": {
        "id": "ZQ570XnbSFwa",
        "colab": {
          "base_uri": "https://localhost:8080/"
        },
        "outputId": "12ff3c4c-a80c-4521-82e3-2f67185bb965"
      },
      "source": [
        "# try to run the bare minimum to get a new conda env working\n",
        "conda_path = ''\n",
        "try:\n",
        "    conda_path = !which conda\n",
        "finally:\n",
        "    print('Conda does not exist')"
      ],
      "execution_count": 2,
      "outputs": [
        {
          "output_type": "stream",
          "text": [
            "Conda does not exist\n"
          ],
          "name": "stdout"
        }
      ]
    },
    {
      "cell_type": "code",
      "metadata": {
        "id": "rpy1AScxSYBQ",
        "colab": {
          "base_uri": "https://localhost:8080/"
        },
        "outputId": "af884c53-a491-4c7c-f4fd-83e4dfe596ce"
      },
      "source": [
        "conda_envs = !conda env list\n",
        "res = [i for i in conda_envs if 'test36' in i]\n",
        "if (len(res) == 0):\n",
        "    print('not found test36 env', len(res))\n",
        "    !conda create -y -q --name test36 python=3.6\n",
        "else:\n",
        "    print('found test36 env', len(res))"
      ],
      "execution_count": null,
      "outputs": [
        {
          "output_type": "stream",
          "text": [
            "not found test36 env 0\n",
            "Collecting package metadata (current_repodata.json): ...working... failed\n",
            "\n",
            "InvalidVersionSpec: Invalid version '4.19.112+': empty version component\n",
            "\n"
          ],
          "name": "stdout"
        }
      ]
    },
    {
      "cell_type": "code",
      "metadata": {
        "id": "7tzIoZVJO2eU",
        "colab": {
          "base_uri": "https://localhost:8080/"
        },
        "outputId": "88cc330e-444d-4d9c-baeb-bbc397047f07"
      },
      "source": [
        "!conda install --channel conda-forge featuretools --yes\n"
      ],
      "execution_count": null,
      "outputs": [
        {
          "output_type": "stream",
          "text": [
            "/bin/bash: conda: command not found\n"
          ],
          "name": "stdout"
        }
      ]
    },
    {
      "cell_type": "code",
      "metadata": {
        "id": "8_tb8-vhO6Ul",
        "colab": {
          "base_uri": "https://localhost:8080/"
        },
        "outputId": "68a67a50-a34c-4e93-b872-d317cbda16af"
      },
      "source": [
        "pip install git+https://github.com/MAfarrag/HAPI\n",
        "!pip install HAPI-Nile"
      ],
      "execution_count": 9,
      "outputs": [
        {
          "output_type": "stream",
          "text": [
            "Collecting git+https://github.com/MAfarrag/HAPI\n",
            "  Cloning https://github.com/MAfarrag/HAPI to /tmp/pip-req-build-rsj6rc_e\n",
            "  Running command git clone -q https://github.com/MAfarrag/HAPI /tmp/pip-req-build-rsj6rc_e\n"
          ],
          "name": "stdout"
        }
      ]
    },
    {
      "cell_type": "code",
      "metadata": {
        "colab": {
          "base_uri": "https://localhost:8080/"
        },
        "id": "VX1HFGcwfhEJ",
        "outputId": "b8e03016-20d0-44d2-ed7c-eb5643af40e4"
      },
      "source": [
        "from google.colab import drive\n",
        "drive.mount('/content/drive')"
      ],
      "execution_count": 1,
      "outputs": [
        {
          "output_type": "stream",
          "text": [
            "Drive already mounted at /content/drive; to attempt to forcibly remount, call drive.mount(\"/content/drive\", force_remount=True).\n"
          ],
          "name": "stdout"
        }
      ]
    },
    {
      "cell_type": "code",
      "metadata": {
        "colab": {
          "base_uri": "https://localhost:8080/",
          "height": 408
        },
        "id": "xdKIY4g023Si",
        "outputId": "414ed22f-eed0-4ce1-a7f7-4fe348a0a4e9"
      },
      "source": [
        ""
      ],
      "execution_count": 16,
      "outputs": [
        {
          "output_type": "stream",
          "text": [
            "Collecting rasterio\n",
            "  Downloading rasterio-1.2.2-cp37-cp37m-manylinux1_x86_64.whl (19.1 MB)\n",
            "\u001b[K     |████████████████████████████████| 19.1 MB 52.3 MB/s \n",
            "\u001b[?25hCollecting snuggs>=1.4.1\n",
            "  Downloading snuggs-1.4.7-py3-none-any.whl (5.4 kB)\n",
            "Requirement already satisfied: certifi in /usr/local/lib/python3.7/site-packages (from rasterio) (2020.12.5)\n",
            "Requirement already satisfied: click<8,>=4.0 in /usr/local/lib/python3.7/site-packages (from rasterio) (7.1.2)\n",
            "Requirement already satisfied: numpy in /usr/local/lib/python3.7/site-packages (from rasterio) (1.20.2)\n",
            "Requirement already satisfied: attrs in /usr/local/lib/python3.7/site-packages (from rasterio) (20.3.0)\n",
            "Requirement already satisfied: click-plugins in /usr/local/lib/python3.7/site-packages (from rasterio) (1.1.1)\n",
            "Requirement already satisfied: cligj>=0.5 in /usr/local/lib/python3.7/site-packages (from rasterio) (0.7.1)\n",
            "Collecting affine\n",
            "  Downloading affine-2.3.0-py2.py3-none-any.whl (15 kB)\n",
            "Collecting pyparsing>=2.1.6\n",
            "  Downloading pyparsing-2.4.7-py2.py3-none-any.whl (67 kB)\n",
            "\u001b[K     |████████████████████████████████| 67 kB 3.9 MB/s \n",
            "\u001b[?25hInstalling collected packages: pyparsing, snuggs, affine, rasterio\n",
            "Successfully installed affine-2.3.0 pyparsing-2.4.7 rasterio-1.2.2 snuggs-1.4.7\n"
          ],
          "name": "stdout"
        },
        {
          "output_type": "display_data",
          "data": {
            "application/vnd.colab-display-data+json": {
              "pip_warning": {
                "packages": [
                  "pyparsing"
                ]
              }
            }
          },
          "metadata": {
            "tags": []
          }
        }
      ]
    },
    {
      "cell_type": "markdown",
      "metadata": {
        "id": "cY-rs6ngeaWs"
      },
      "source": [
        "### Download Data\n",
        "For the data of this case study you have to download this folder [Jiboa Data](https://drive.google.com/drive/folders/1uyd9mH8pHHUKK9l3bc7QXlsu4EPwy3Mr?usp=sharing) from Google Drive and set it as the working directory instead of the Path defined in the next cell"
      ]
    },
    {
      "cell_type": "code",
      "metadata": {
        "id": "d8GNCaxR4dGw"
      },
      "source": [
        "import os\n",
        "Path = \"/content/drive/My Drive/coello\"\n",
        "\n",
        "os.chdir(Path)"
      ],
      "execution_count": 13,
      "outputs": []
    },
    {
      "cell_type": "code",
      "metadata": {
        "colab": {
          "base_uri": "https://localhost:8080/",
          "height": 1000
        },
        "id": "l4rBYrYq5aO8",
        "outputId": "e70f1c4f-7792-4491-d3a0-d76fa5e00be4"
      },
      "source": [
        "\n",
        "\n"
      ],
      "execution_count": 15,
      "outputs": [
        {
          "output_type": "stream",
          "text": [
            "Collecting gdal\n",
            "  Using cached GDAL-3.2.2.tar.gz (601 kB)\n",
            "Building wheels for collected packages: gdal\n",
            "  Building wheel for gdal (setup.py) ... \u001b[?25lerror\n",
            "\u001b[31m  ERROR: Failed building wheel for gdal\u001b[0m\n",
            "\u001b[?25h  Running setup.py clean for gdal\n",
            "Failed to build gdal\n",
            "Installing collected packages: gdal\n",
            "    Running setup.py install for gdal ... \u001b[?25l\u001b[?25herror\n",
            "\u001b[31mERROR: Command errored out with exit status 1: /usr/local/bin/python -u -c 'import sys, setuptools, tokenize; sys.argv[0] = '\"'\"'/tmp/pip-install-pom0l1f8/gdal_b73f3e6dc916445082ed23e78d2303aa/setup.py'\"'\"'; __file__='\"'\"'/tmp/pip-install-pom0l1f8/gdal_b73f3e6dc916445082ed23e78d2303aa/setup.py'\"'\"';f=getattr(tokenize, '\"'\"'open'\"'\"', open)(__file__);code=f.read().replace('\"'\"'\\r\\n'\"'\"', '\"'\"'\\n'\"'\"');f.close();exec(compile(code, __file__, '\"'\"'exec'\"'\"'))' install --record /tmp/pip-record-g0fu_ezh/install-record.txt --single-version-externally-managed --compile --install-headers /usr/local/include/python3.7m/gdal Check the logs for full command output.\u001b[0m\n",
            "Requirement already satisfied: affine in /usr/local/lib/python3.7/site-packages (2.3.0)\n",
            "Requirement already satisfied: fiona in /usr/local/lib/python3.7/site-packages (1.8.19)\n",
            "Requirement already satisfied: certifi in /usr/local/lib/python3.7/site-packages (from fiona) (2020.12.5)\n",
            "Requirement already satisfied: click<8,>=4.0 in /usr/local/lib/python3.7/site-packages (from fiona) (7.1.2)\n",
            "Requirement already satisfied: munch in /usr/local/lib/python3.7/site-packages (from fiona) (2.5.0)\n",
            "Requirement already satisfied: six>=1.7 in /usr/local/lib/python3.7/site-packages (from fiona) (1.15.0)\n",
            "Requirement already satisfied: cligj>=0.5 in /usr/local/lib/python3.7/site-packages (from fiona) (0.7.1)\n",
            "Requirement already satisfied: click-plugins>=1.0 in /usr/local/lib/python3.7/site-packages (from fiona) (1.1.1)\n",
            "Requirement already satisfied: attrs>=17 in /usr/local/lib/python3.7/site-packages (from fiona) (20.3.0)\n",
            "Collecting proj\n",
            "  Using cached proj-0.2.0-py2.py3-none-any.whl (8.6 kB)\n",
            "Collecting arrow>=0.15.6\n",
            "  Downloading arrow-1.0.3-py3-none-any.whl (54 kB)\n",
            "\u001b[K     |████████████████████████████████| 54 kB 1.7 MB/s \n",
            "\u001b[?25hRequirement already satisfied: click>=7.1.2 in /usr/local/lib/python3.7/site-packages (from proj) (7.1.2)\n",
            "Requirement already satisfied: python-dateutil>=2.7.0 in /usr/local/lib/python3.7/site-packages (from arrow>=0.15.6->proj) (2.8.1)\n",
            "Collecting typing-extensions\n",
            "  Downloading typing_extensions-3.7.4.3-py3-none-any.whl (22 kB)\n",
            "Requirement already satisfied: six>=1.5 in /usr/local/lib/python3.7/site-packages (from python-dateutil>=2.7.0->arrow>=0.15.6->proj) (1.15.0)\n",
            "Installing collected packages: typing-extensions, arrow, proj\n",
            "Successfully installed arrow-1.0.3 proj-0.2.0 typing-extensions-3.7.4.3\n",
            "Requirement already satisfied: pyproj in /usr/local/lib/python3.7/site-packages (3.0.1)\n",
            "Requirement already satisfied: certifi in /usr/local/lib/python3.7/site-packages (from pyproj) (2020.12.5)\n",
            "Requirement already satisfied: pandas in /usr/local/lib/python3.7/site-packages (1.1.5)\n",
            "Requirement already satisfied: python-dateutil>=2.7.3 in /usr/local/lib/python3.7/site-packages (from pandas) (2.8.1)\n",
            "Requirement already satisfied: numpy>=1.15.4 in /usr/local/lib/python3.7/site-packages (from pandas) (1.20.2)\n",
            "Requirement already satisfied: pytz>=2017.2 in /usr/local/lib/python3.7/site-packages (from pandas) (2021.1)\n",
            "Requirement already satisfied: six>=1.5 in /usr/local/lib/python3.7/site-packages (from python-dateutil>=2.7.3->pandas) (1.15.0)\n",
            "Requirement already satisfied: geopandas in /usr/local/lib/python3.7/site-packages (0.9.0)\n",
            "Requirement already satisfied: fiona>=1.8 in /usr/local/lib/python3.7/site-packages (from geopandas) (1.8.19)\n",
            "Requirement already satisfied: pandas>=0.24.0 in /usr/local/lib/python3.7/site-packages (from geopandas) (1.1.5)\n",
            "Requirement already satisfied: pyproj>=2.2.0 in /usr/local/lib/python3.7/site-packages (from geopandas) (3.0.1)\n",
            "Requirement already satisfied: shapely>=1.6 in /usr/local/lib/python3.7/site-packages (from geopandas) (1.7.1)\n",
            "Requirement already satisfied: attrs>=17 in /usr/local/lib/python3.7/site-packages (from fiona>=1.8->geopandas) (20.3.0)\n",
            "Requirement already satisfied: click<8,>=4.0 in /usr/local/lib/python3.7/site-packages (from fiona>=1.8->geopandas) (7.1.2)\n",
            "Requirement already satisfied: cligj>=0.5 in /usr/local/lib/python3.7/site-packages (from fiona>=1.8->geopandas) (0.7.1)\n",
            "Requirement already satisfied: click-plugins>=1.0 in /usr/local/lib/python3.7/site-packages (from fiona>=1.8->geopandas) (1.1.1)\n",
            "Requirement already satisfied: munch in /usr/local/lib/python3.7/site-packages (from fiona>=1.8->geopandas) (2.5.0)\n",
            "Requirement already satisfied: six>=1.7 in /usr/local/lib/python3.7/site-packages (from fiona>=1.8->geopandas) (1.15.0)\n",
            "Requirement already satisfied: certifi in /usr/local/lib/python3.7/site-packages (from fiona>=1.8->geopandas) (2020.12.5)\n",
            "Requirement already satisfied: pytz>=2017.2 in /usr/local/lib/python3.7/site-packages (from pandas>=0.24.0->geopandas) (2021.1)\n",
            "Requirement already satisfied: python-dateutil>=2.7.3 in /usr/local/lib/python3.7/site-packages (from pandas>=0.24.0->geopandas) (2.8.1)\n",
            "Requirement already satisfied: numpy>=1.15.4 in /usr/local/lib/python3.7/site-packages (from pandas>=0.24.0->geopandas) (1.20.2)\n",
            "\u001b[31mERROR: Could not find a version that satisfies the requirement matplotlib-base\u001b[0m\n",
            "\u001b[31mERROR: No matching distribution found for matplotlib-base\u001b[0m\n",
            "\u001b[31mERROR: Could not find a version that satisfies the requirement python\u001b[0m\n",
            "\u001b[31mERROR: No matching distribution found for python\u001b[0m\n",
            "Collecting scipy\n",
            "  Downloading scipy-1.6.2-cp37-cp37m-manylinux1_x86_64.whl (27.4 MB)\n",
            "\u001b[K     |████████████████████████████████| 27.4 MB 129 kB/s \n",
            "\u001b[?25hRequirement already satisfied: numpy<1.23.0,>=1.16.5 in /usr/local/lib/python3.7/site-packages (from scipy) (1.20.2)\n",
            "Installing collected packages: scipy\n",
            "Successfully installed scipy-1.6.2\n",
            "Requirement already satisfied: shapely in /usr/local/lib/python3.7/site-packages (1.7.1)\n",
            "Collecting statsmodels\n",
            "  Downloading statsmodels-0.12.2-cp37-cp37m-manylinux1_x86_64.whl (9.5 MB)\n",
            "\u001b[K     |████████████████████████████████| 9.5 MB 5.4 MB/s \n",
            "\u001b[?25hRequirement already satisfied: numpy>=1.15 in /usr/local/lib/python3.7/site-packages (from statsmodels) (1.20.2)\n",
            "Requirement already satisfied: scipy>=1.1 in /usr/local/lib/python3.7/site-packages (from statsmodels) (1.6.2)\n",
            "Collecting patsy>=0.5\n",
            "  Downloading patsy-0.5.1-py2.py3-none-any.whl (231 kB)\n",
            "\u001b[K     |████████████████████████████████| 231 kB 51.5 MB/s \n",
            "\u001b[?25hRequirement already satisfied: pandas>=0.21 in /usr/local/lib/python3.7/site-packages (from statsmodels) (1.1.5)\n",
            "Requirement already satisfied: python-dateutil>=2.7.3 in /usr/local/lib/python3.7/site-packages (from pandas>=0.21->statsmodels) (2.8.1)\n",
            "Requirement already satisfied: pytz>=2017.2 in /usr/local/lib/python3.7/site-packages (from pandas>=0.21->statsmodels) (2021.1)\n",
            "Requirement already satisfied: six in /usr/local/lib/python3.7/site-packages (from patsy>=0.5->statsmodels) (1.15.0)\n",
            "Installing collected packages: patsy, statsmodels\n",
            "Successfully installed patsy-0.5.1 statsmodels-0.12.2\n",
            "Requirement already satisfied: rasterio in /usr/local/lib/python3.7/site-packages (1.2.2)\n",
            "Requirement already satisfied: click<8,>=4.0 in /usr/local/lib/python3.7/site-packages (from rasterio) (7.1.2)\n",
            "Requirement already satisfied: click-plugins in /usr/local/lib/python3.7/site-packages (from rasterio) (1.1.1)\n",
            "Requirement already satisfied: affine in /usr/local/lib/python3.7/site-packages (from rasterio) (2.3.0)\n",
            "Requirement already satisfied: snuggs>=1.4.1 in /usr/local/lib/python3.7/site-packages (from rasterio) (1.4.7)\n",
            "Requirement already satisfied: cligj>=0.5 in /usr/local/lib/python3.7/site-packages (from rasterio) (0.7.1)\n",
            "Requirement already satisfied: certifi in /usr/local/lib/python3.7/site-packages (from rasterio) (2020.12.5)\n",
            "Requirement already satisfied: attrs in /usr/local/lib/python3.7/site-packages (from rasterio) (20.3.0)\n",
            "Requirement already satisfied: numpy in /usr/local/lib/python3.7/site-packages (from rasterio) (1.20.2)\n",
            "Requirement already satisfied: pyparsing>=2.1.6 in /usr/local/lib/python3.7/site-packages (from snuggs>=1.4.1->rasterio) (2.4.7)\n",
            "Collecting rasterstats\n",
            "  Downloading rasterstats-0.15.0-py3-none-any.whl (16 kB)\n",
            "Requirement already satisfied: shapely in /usr/local/lib/python3.7/site-packages (from rasterstats) (1.7.1)\n",
            "Requirement already satisfied: fiona in /usr/local/lib/python3.7/site-packages (from rasterstats) (1.8.19)\n",
            "Requirement already satisfied: numpy>=1.9 in /usr/local/lib/python3.7/site-packages (from rasterstats) (1.20.2)\n",
            "Requirement already satisfied: cligj>=0.4 in /usr/local/lib/python3.7/site-packages (from rasterstats) (0.7.1)\n",
            "Collecting simplejson\n",
            "  Downloading simplejson-3.17.2-cp37-cp37m-manylinux2010_x86_64.whl (128 kB)\n",
            "\u001b[K     |████████████████████████████████| 128 kB 8.1 MB/s \n",
            "\u001b[?25hRequirement already satisfied: rasterio>=1.0 in /usr/local/lib/python3.7/site-packages (from rasterstats) (1.2.2)\n",
            "Requirement already satisfied: affine<3.0 in /usr/local/lib/python3.7/site-packages (from rasterstats) (2.3.0)\n",
            "Requirement already satisfied: click<8,>=4.0 in /usr/local/lib/python3.7/site-packages (from cligj>=0.4->rasterstats) (7.1.2)\n",
            "Requirement already satisfied: certifi in /usr/local/lib/python3.7/site-packages (from rasterio>=1.0->rasterstats) (2020.12.5)\n",
            "Requirement already satisfied: snuggs>=1.4.1 in /usr/local/lib/python3.7/site-packages (from rasterio>=1.0->rasterstats) (1.4.7)\n",
            "Requirement already satisfied: click-plugins in /usr/local/lib/python3.7/site-packages (from rasterio>=1.0->rasterstats) (1.1.1)\n",
            "Requirement already satisfied: attrs in /usr/local/lib/python3.7/site-packages (from rasterio>=1.0->rasterstats) (20.3.0)\n",
            "Requirement already satisfied: pyparsing>=2.1.6 in /usr/local/lib/python3.7/site-packages (from snuggs>=1.4.1->rasterio>=1.0->rasterstats) (2.4.7)\n",
            "Requirement already satisfied: munch in /usr/local/lib/python3.7/site-packages (from fiona->rasterstats) (2.5.0)\n",
            "Requirement already satisfied: six>=1.7 in /usr/local/lib/python3.7/site-packages (from fiona->rasterstats) (1.15.0)\n",
            "Installing collected packages: simplejson, rasterstats\n",
            "Successfully installed rasterstats-0.15.0 simplejson-3.17.2\n",
            "Collecting oasis\n",
            "  Downloading oasis-0.1.2-py2.py3-none-any.whl (31 kB)\n",
            "Collecting sklearn\n",
            "  Downloading sklearn-0.0.tar.gz (1.1 kB)\n",
            "Requirement already satisfied: numpy in /usr/local/lib/python3.7/site-packages (from oasis) (1.20.2)\n",
            "Collecting tables\n",
            "  Downloading tables-3.6.1-cp37-cp37m-manylinux1_x86_64.whl (4.3 MB)\n",
            "\u001b[K     |████████████████████████████████| 4.3 MB 8.0 MB/s \n",
            "\u001b[?25hRequirement already satisfied: scipy in /usr/local/lib/python3.7/site-packages (from oasis) (1.6.2)\n",
            "Collecting scikit-learn\n",
            "  Downloading scikit_learn-0.24.1-cp37-cp37m-manylinux2010_x86_64.whl (22.3 MB)\n",
            "\u001b[K     |████████████████████████████████| 22.3 MB 1.5 MB/s \n",
            "\u001b[?25hCollecting threadpoolctl>=2.0.0\n",
            "  Downloading threadpoolctl-2.1.0-py3-none-any.whl (12 kB)\n",
            "Collecting joblib>=0.11\n",
            "  Downloading joblib-1.0.1-py3-none-any.whl (303 kB)\n",
            "\u001b[K     |████████████████████████████████| 303 kB 60.3 MB/s \n",
            "\u001b[?25hCollecting numexpr>=2.6.2\n",
            "  Downloading numexpr-2.7.3-cp37-cp37m-manylinux2010_x86_64.whl (471 kB)\n",
            "\u001b[K     |████████████████████████████████| 471 kB 49.2 MB/s \n",
            "\u001b[?25hBuilding wheels for collected packages: sklearn\n",
            "  Building wheel for sklearn (setup.py) ... \u001b[?25l\u001b[?25hdone\n",
            "  Created wheel for sklearn: filename=sklearn-0.0-py2.py3-none-any.whl size=1316 sha256=031a214c74b653a47b3b22f1e450d93967ec052f24bd1c391e8bd6eb343e7e4d\n",
            "  Stored in directory: /root/.cache/pip/wheels/46/ef/c3/157e41f5ee1372d1be90b09f74f82b10e391eaacca8f22d33e\n",
            "Successfully built sklearn\n",
            "Installing collected packages: threadpoolctl, joblib, scikit-learn, numexpr, tables, sklearn, oasis\n",
            "Successfully installed joblib-1.0.1 numexpr-2.7.3 oasis-0.1.2 scikit-learn-0.24.1 sklearn-0.0 tables-3.6.1 threadpoolctl-2.1.0\n",
            "Collecting netCDF4\n",
            "  Downloading netCDF4-1.5.6-cp37-cp37m-manylinux2014_x86_64.whl (4.7 MB)\n",
            "\u001b[K     |████████████████████████████████| 4.7 MB 4.4 MB/s \n",
            "\u001b[?25hRequirement already satisfied: numpy>=1.9 in /usr/local/lib/python3.7/site-packages (from netCDF4) (1.20.2)\n",
            "Collecting cftime\n",
            "  Downloading cftime-1.4.1-cp37-cp37m-manylinux2014_x86_64.whl (313 kB)\n",
            "\u001b[K     |████████████████████████████████| 313 kB 72.8 MB/s \n",
            "\u001b[?25hInstalling collected packages: cftime, netCDF4\n",
            "Successfully installed cftime-1.4.1 netCDF4-1.5.6\n",
            "Requirement already satisfied: scikit-learn in /usr/local/lib/python3.7/site-packages (0.24.1)\n",
            "Requirement already satisfied: threadpoolctl>=2.0.0 in /usr/local/lib/python3.7/site-packages (from scikit-learn) (2.1.0)\n",
            "Requirement already satisfied: numpy>=1.13.3 in /usr/local/lib/python3.7/site-packages (from scikit-learn) (1.20.2)\n",
            "Requirement already satisfied: scipy>=0.19.1 in /usr/local/lib/python3.7/site-packages (from scikit-learn) (1.6.2)\n",
            "Requirement already satisfied: joblib>=0.11 in /usr/local/lib/python3.7/site-packages (from scikit-learn) (1.0.1)\n",
            "Collecting scikit-image\n",
            "  Downloading scikit_image-0.18.1-cp37-cp37m-manylinux1_x86_64.whl (29.2 MB)\n",
            "\u001b[K     |████████████████████████████████| 29.2 MB 64 kB/s \n",
            "\u001b[?25hCollecting imageio>=2.3.0\n",
            "  Downloading imageio-2.9.0-py3-none-any.whl (3.3 MB)\n",
            "\u001b[K     |████████████████████████████████| 3.3 MB 50.1 MB/s \n",
            "\u001b[?25hCollecting pillow!=7.1.0,!=7.1.1,>=4.3.0\n",
            "  Downloading Pillow-8.2.0-cp37-cp37m-manylinux1_x86_64.whl (3.0 MB)\n",
            "\u001b[K     |████████████████████████████████| 3.0 MB 50.4 MB/s \n",
            "\u001b[?25hCollecting matplotlib!=3.0.0,>=2.0.0\n",
            "  Using cached matplotlib-3.4.1-cp37-cp37m-manylinux1_x86_64.whl (10.3 MB)\n",
            "Collecting networkx>=2.0\n",
            "  Downloading networkx-2.5.1-py3-none-any.whl (1.6 MB)\n",
            "\u001b[K     |████████████████████████████████| 1.6 MB 62.3 MB/s \n",
            "\u001b[?25hCollecting PyWavelets>=1.1.1\n",
            "  Downloading PyWavelets-1.1.1-cp37-cp37m-manylinux1_x86_64.whl (4.4 MB)\n",
            "\u001b[K     |████████████████████████████████| 4.4 MB 48.8 MB/s \n",
            "\u001b[?25hRequirement already satisfied: numpy>=1.16.5 in /usr/local/lib/python3.7/site-packages (from scikit-image) (1.20.2)\n",
            "Collecting tifffile>=2019.7.26\n",
            "  Downloading tifffile-2021.4.8-py3-none-any.whl (165 kB)\n",
            "\u001b[K     |████████████████████████████████| 165 kB 54.7 MB/s \n",
            "\u001b[?25hRequirement already satisfied: scipy>=1.0.1 in /usr/local/lib/python3.7/site-packages (from scikit-image) (1.6.2)\n",
            "Requirement already satisfied: python-dateutil>=2.7 in /usr/local/lib/python3.7/site-packages (from matplotlib!=3.0.0,>=2.0.0->scikit-image) (2.8.1)\n",
            "Collecting kiwisolver>=1.0.1\n",
            "  Downloading kiwisolver-1.3.1-cp37-cp37m-manylinux1_x86_64.whl (1.1 MB)\n",
            "\u001b[K     |████████████████████████████████| 1.1 MB 56.1 MB/s \n",
            "\u001b[?25hRequirement already satisfied: pyparsing>=2.2.1 in /usr/local/lib/python3.7/site-packages (from matplotlib!=3.0.0,>=2.0.0->scikit-image) (2.4.7)\n",
            "Collecting cycler>=0.10\n",
            "  Downloading cycler-0.10.0-py2.py3-none-any.whl (6.5 kB)\n",
            "Requirement already satisfied: six in /usr/local/lib/python3.7/site-packages (from cycler>=0.10->matplotlib!=3.0.0,>=2.0.0->scikit-image) (1.15.0)\n",
            "Collecting decorator<5,>=4.3\n",
            "  Downloading decorator-4.4.2-py2.py3-none-any.whl (9.2 kB)\n",
            "Installing collected packages: pillow, kiwisolver, decorator, cycler, tifffile, PyWavelets, networkx, matplotlib, imageio, scikit-image\n",
            "Successfully installed PyWavelets-1.1.1 cycler-0.10.0 decorator-4.4.2 imageio-2.9.0 kiwisolver-1.3.1 matplotlib-3.4.1 networkx-2.5.1 pillow-8.2.0 scikit-image-0.18.1 tifffile-2021.4.8\n"
          ],
          "name": "stdout"
        },
        {
          "output_type": "display_data",
          "data": {
            "application/vnd.colab-display-data+json": {
              "pip_warning": {
                "packages": [
                  "cycler",
                  "decorator",
                  "kiwisolver"
                ]
              }
            }
          },
          "metadata": {
            "tags": []
          }
        },
        {
          "output_type": "stream",
          "text": [
            "Collecting ecmwf-api-client\n",
            "  Downloading ecmwf-api-client-1.6.1.tar.gz (11 kB)\n",
            "Building wheels for collected packages: ecmwf-api-client\n",
            "  Building wheel for ecmwf-api-client (setup.py) ... \u001b[?25l\u001b[?25hdone\n",
            "  Created wheel for ecmwf-api-client: filename=ecmwf_api_client-1.6.1-py3-none-any.whl size=12619 sha256=0c9bf01eed4ecad40a1eb9c1c94521e903dccf4e1da4a7db31fc23f9af207a9a\n",
            "  Stored in directory: /root/.cache/pip/wheels/bd/6b/ce/7dfe55ed168bf71dd725f3c452fc3222767f09459410633982\n",
            "Successfully built ecmwf-api-client\n",
            "Installing collected packages: ecmwf-api-client\n",
            "Successfully installed ecmwf-api-client-1.6.1\n",
            "Requirement already satisfied: joblib in /usr/local/lib/python3.7/site-packages (1.0.1)\n"
          ],
          "name": "stdout"
        }
      ]
    },
    {
      "cell_type": "code",
      "metadata": {
        "colab": {
          "base_uri": "https://localhost:8080/"
        },
        "id": "-qlkmgrX4fJQ",
        "outputId": "5f34d967-9736-43a5-de73-6143579a9470"
      },
      "source": [
        "! pip install Hapi-Nile"
      ],
      "execution_count": 19,
      "outputs": [
        {
          "output_type": "stream",
          "text": [
            "Requirement already satisfied: Hapi-Nile in /usr/local/lib/python3.7/site-packages (1.0.4)\n"
          ],
          "name": "stdout"
        }
      ]
    },
    {
      "cell_type": "code",
      "metadata": {
        "colab": {
          "base_uri": "https://localhost:8080/",
          "height": 299
        },
        "id": "OVGqgHDR6Wbc",
        "outputId": "35b98d95-f39a-47c4-985e-2c58b9a90838"
      },
      "source": [
        "! "
      ],
      "execution_count": 21,
      "outputs": [
        {
          "output_type": "error",
          "ename": "ModuleNotFoundError",
          "evalue": "ignored",
          "traceback": [
            "\u001b[0;31m---------------------------------------------------------------------------\u001b[0m",
            "\u001b[0;31mModuleNotFoundError\u001b[0m                       Traceback (most recent call last)",
            "\u001b[0;32m<ipython-input-21-f5ef6f3b2b59>\u001b[0m in \u001b[0;36m<module>\u001b[0;34m()\u001b[0m\n\u001b[0;32m----> 1\u001b[0;31m \u001b[0;32mimport\u001b[0m \u001b[0mhapi\u001b[0m\u001b[0;34m\u001b[0m\u001b[0;34m\u001b[0m\u001b[0m\n\u001b[0m",
            "\u001b[0;31mModuleNotFoundError\u001b[0m: No module named 'hapi'",
            "",
            "\u001b[0;31m---------------------------------------------------------------------------\u001b[0;32m\nNOTE: If your import is failing due to a missing package, you can\nmanually install dependencies using either !pip or !apt.\n\nTo view examples of installing some common dependencies, click the\n\"Open Examples\" button below.\n\u001b[0;31m---------------------------------------------------------------------------\u001b[0m\n"
          ]
        }
      ]
    },
    {
      "cell_type": "code",
      "metadata": {
        "colab": {
          "base_uri": "https://localhost:8080/"
        },
        "id": "pJaQMwel4kKU",
        "outputId": "7c27ca91-af3f-4602-e655-8f2549fcfaa5"
      },
      "source": [
        "os.listdir()"
      ],
      "execution_count": 4,
      "outputs": [
        {
          "output_type": "execute_result",
          "data": {
            "text/plain": [
              "['Data', 'Model', 'requirement.txt']"
            ]
          },
          "metadata": {
            "tags": []
          },
          "execution_count": 4
        }
      ]
    },
    {
      "cell_type": "markdown",
      "metadata": {
        "id": "9UYKOoK5eaWt"
      },
      "source": [
        "## Import modules"
      ]
    },
    {
      "cell_type": "code",
      "metadata": {
        "colab": {
          "base_uri": "https://localhost:8080/",
          "height": 367
        },
        "id": "hUTUchZneaWv",
        "outputId": "33094cf6-1f30-494f-8f2d-dedc126a320f"
      },
      "source": [
        "import os\n",
        "Path = \"/content/drive/My Drive/coello\"\n",
        "\n",
        "os.chdir(Path)\n",
        "\n",
        "#%library\n",
        "import gdal\n",
        "import datetime as dt\n",
        "import pandas as pd\n",
        "import numpy as np\n",
        "import matplotlib.pyplot as plt\n",
        "\n",
        "# HAPI modules\n",
        "from Hapi.run import RunHAPIwithLake\n",
        "import Hapi.hbv as HBV\n",
        "import Hapi.performancecriteria as Pf\n",
        "import Hapi.raster as Raster"
      ],
      "execution_count": 17,
      "outputs": [
        {
          "output_type": "error",
          "ename": "ModuleNotFoundError",
          "evalue": "ignored",
          "traceback": [
            "\u001b[0;31m---------------------------------------------------------------------------\u001b[0m",
            "\u001b[0;31mModuleNotFoundError\u001b[0m                       Traceback (most recent call last)",
            "\u001b[0;32m<ipython-input-17-1631fc881fd3>\u001b[0m in \u001b[0;36m<module>\u001b[0;34m()\u001b[0m\n\u001b[1;32m     12\u001b[0m \u001b[0;34m\u001b[0m\u001b[0m\n\u001b[1;32m     13\u001b[0m \u001b[0;31m# HAPI modules\u001b[0m\u001b[0;34m\u001b[0m\u001b[0;34m\u001b[0m\u001b[0;34m\u001b[0m\u001b[0m\n\u001b[0;32m---> 14\u001b[0;31m \u001b[0;32mfrom\u001b[0m \u001b[0mHapi\u001b[0m\u001b[0;34m.\u001b[0m\u001b[0mrun\u001b[0m \u001b[0;32mimport\u001b[0m \u001b[0mRunHAPIwithLake\u001b[0m\u001b[0;34m\u001b[0m\u001b[0;34m\u001b[0m\u001b[0m\n\u001b[0m\u001b[1;32m     15\u001b[0m \u001b[0;32mimport\u001b[0m \u001b[0mHapi\u001b[0m\u001b[0;34m.\u001b[0m\u001b[0mhbv\u001b[0m \u001b[0;32mas\u001b[0m \u001b[0mHBV\u001b[0m\u001b[0;34m\u001b[0m\u001b[0;34m\u001b[0m\u001b[0m\n\u001b[1;32m     16\u001b[0m \u001b[0;32mimport\u001b[0m \u001b[0mHapi\u001b[0m\u001b[0;34m.\u001b[0m\u001b[0mperformancecriteria\u001b[0m \u001b[0;32mas\u001b[0m \u001b[0mPf\u001b[0m\u001b[0;34m\u001b[0m\u001b[0;34m\u001b[0m\u001b[0m\n",
            "\u001b[0;31mModuleNotFoundError\u001b[0m: No module named 'Hapi'",
            "",
            "\u001b[0;31m---------------------------------------------------------------------------\u001b[0;32m\nNOTE: If your import is failing due to a missing package, you can\nmanually install dependencies using either !pip or !apt.\n\nTo view examples of installing some common dependencies, click the\n\"Open Examples\" button below.\n\u001b[0;31m---------------------------------------------------------------------------\u001b[0m\n"
          ]
        }
      ]
    },
    {
      "cell_type": "code",
      "metadata": {
        "id": "_icyH0yU4ZQA"
      },
      "source": [
        ""
      ],
      "execution_count": null,
      "outputs": []
    },
    {
      "cell_type": "code",
      "metadata": {
        "id": "CZlm3E7TeaW0"
      },
      "source": [
        "# the beginning of the simulation of the calibration data\n",
        "start = dt.datetime(2012,6,14,19,00,00)\n",
        "end = dt.datetime(2014,11,17,00,00,00)\n",
        "calib_end = dt.datetime(2013,12,23,00,00,00)\n",
        "\n",
        "# paths to the meteorological data\n",
        "PrecPath = prec_path = \"inputs/Hapi/meteodata/4000/calib/prec_clipped\"\n",
        "Evap_Path = evap_path = \"inputs/Hapi/meteodata/4000/calib/evap_clipped\"\n",
        "TempPath = temp_path = \"inputs/Hapi/meteodata/4000/calib/temp_clipped\"\n",
        "\n",
        "#DemPath = path+\"GIS/4000/dem4000.tif\"\n",
        "FlowAccPath = \"inputs/Hapi/GIS/4000_matched/acc4000.tif\"\n",
        "FlowDPath = \"inputs/Hapi/GIS/4000_matched/fd4000.tif\"\n",
        "ParPath = \"inputs/Hapi/meteodata/4000/parameters/\"\n",
        "#ParPath = \"inputs/Hapi/meteodata/4000/\"+\"parameters.txt\"\n",
        "Paths=[PrecPath, Evap_Path, TempPath, FlowAccPath, FlowDPath, ]"
      ],
      "execution_count": null,
      "outputs": []
    },
    {
      "cell_type": "code",
      "metadata": {
        "id": "R8zrDjIueaW5"
      },
      "source": [
        "\n",
        "#p2=[24, 1530]\n",
        "#init_st=[0,5,5,5,0]\n",
        "init_st = np.loadtxt(\"inputs/Hapi/meteodata/Initia-jiboa.txt\", usecols=0).tolist()\n",
        "snow = 0\n",
        "\n",
        "\n",
        "# lake meteorological data\n",
        "ind = pd.date_range(start, end, freq = \"H\" )\n",
        "lakedata = pd.read_csv(\"inputs/Hapi/meteodata/lakedata.csv\", index_col = 0)\n",
        "lakedata.index = ind\n",
        "lakeCalib = lakedata.loc[start:calib_end]\n",
        "lakeValid = lakedata.loc[calib_end:end]\n",
        "# convert the dataframe into array\n",
        "lakeCalibArray = lakeCalib.values\n",
        "# take only the plake, et, t and tm columns and exclude the last column\n",
        "lakeCalibArray = lakeCalibArray[:,0:-1]\n",
        "\n",
        "# where the lake discharges its flow (give the indices of the cell)\n",
        "lakecell = [2,1]    # 4km\n",
        "#lakecell = [4,2]    # 2km\n",
        "#lakecell = [10,4]    # 1km\n",
        "#lakecell = [19,10]    # 500m\n",
        "\n",
        "LakeParameters = np.loadtxt(\"inputs/Hapi/meteodata/4000/Lakeparameters.txt\").tolist()\n",
        "StageDischargeCurve = np.loadtxt(\"inputs/Hapi/meteodata/curve.txt\")\n",
        "p2 = [1, 227.31, 133.98, 70.64]\n",
        "Lake_init_st = np.loadtxt(\"inputs/Hapi/meteodata/Initia-lake.txt\", usecols=0).tolist()"
      ],
      "execution_count": null,
      "outputs": []
    },
    {
      "cell_type": "markdown",
      "metadata": {
        "id": "I5OdyI_KeaW9"
      },
      "source": [
        "# Run the model"
      ]
    },
    {
      "cell_type": "code",
      "metadata": {
        "colab": {
          "base_uri": "https://localhost:8080/",
          "height": 34
        },
        "id": "Brso_XrwiVvV",
        "outputId": "fc7852a1-7640-496a-98a5-86d9d6503ef3"
      },
      "source": [
        "os.getcwd()"
      ],
      "execution_count": null,
      "outputs": [
        {
          "output_type": "execute_result",
          "data": {
            "text/plain": [
              "'/content/drive/My Drive'"
            ]
          },
          "metadata": {
            "tags": []
          },
          "execution_count": 12
        }
      ]
    },
    {
      "cell_type": "code",
      "metadata": {
        "colab": {
          "base_uri": "https://localhost:8080/",
          "height": 34
        },
        "id": "mYZRWMT0idd8",
        "outputId": "c0bb0eaa-99a0-4ce3-e122-cfff72b8df01"
      },
      "source": [
        "os.listdir()"
      ],
      "execution_count": null,
      "outputs": [
        {
          "output_type": "execute_result",
          "data": {
            "text/plain": [
              "['Hapi', 'Jiboa.mxd', 'web application', 'processing', 'inputs', 'results.zip']"
            ]
          },
          "metadata": {
            "tags": []
          },
          "execution_count": 13
        }
      ]
    },
    {
      "cell_type": "code",
      "metadata": {
        "id": "5xivVaDweaW-"
      },
      "source": [
        "Sim =pd.DataFrame(index = lakeCalib.index)\n",
        "st, Sim['Q'], q_uz_routed, q_lz_trans = RunHAPIwithLake(HBV, Paths, ParPath, p2, init_st,\n",
        "                                                     snow, lakeCalibArray, StageDischargeCurve,\n",
        "                                                     LakeParameters, lakecell,Lake_init_st)"
      ],
      "execution_count": null,
      "outputs": []
    },
    {
      "cell_type": "markdown",
      "metadata": {
        "id": "kK8Ip1ZkeaXC"
      },
      "source": [
        "### Evaluate model performance"
      ]
    },
    {
      "cell_type": "code",
      "metadata": {
        "id": "60mTcaPveaXD"
      },
      "source": [
        "WS = {}\n",
        "WS['type'] = 1\n",
        "WS['N'] = 3\n",
        "ModelMetrics=dict()\n",
        "ModelMetrics['CalibErrorHf']=Pf.RMSEHF(lakeCalib['Q'],Sim['Q'],WS['type'],WS['N'],0.75)\n",
        "ModelMetrics['CalibErrorLf']=Pf.RMSELF(lakeCalib['Q'],Sim['Q'],WS['type'],WS['N'],0.75)\n",
        "ModelMetrics['CalibNSEHf']=Pf.NSE(lakeCalib['Q'],Sim['Q'])\n",
        "ModelMetrics['CalibNSELf']=Pf.NSE(np.log(lakeCalib['Q']),np.log(Sim['Q']))\n",
        "ModelMetrics['CalibRMSE']=Pf.RMSE(lakeCalib['Q'],Sim['Q'])\n",
        "ModelMetrics['CalibKGE']=Pf.KGE(lakeCalib['Q'],Sim['Q'])\n",
        "ModelMetrics['CalibWB']=Pf.WB(lakeCalib['Q'],Sim['Q'])\n",
        "print(\"RMSE(HF) = \" + str(round(ModelMetrics['CalibErrorHf'],2)))\n",
        "print(\"RMSE(LF) = \" + str(round(ModelMetrics['CalibErrorLf'],2)))\n",
        "print(\"RMSE = \" + str(round(ModelMetrics['CalibRMSE'],2)))\n",
        "print(\"NSE(HF) = \" + str(round(ModelMetrics['CalibNSEHf'],2)))\n",
        "print(\"NSE(LF) = \" + str(round(ModelMetrics['CalibNSELf'],2)))\n",
        "print(\"KGE = \" + str(round(ModelMetrics['CalibKGE'],2)))\n",
        "print(\"WB = \" + str(round(ModelMetrics['CalibWB'],2)))"
      ],
      "execution_count": null,
      "outputs": []
    },
    {
      "cell_type": "code",
      "metadata": {
        "id": "fvcFNEc5eaXG"
      },
      "source": [
        "plt.figure(50,figsize=(15,8))\n",
        "Sim.Q.plot(color=[(0,0.3,0.7)],linewidth=2.5,label=\"Simulated data\", zorder = 10)\n",
        "ax1=lakeCalib['Q'].plot(color='#DC143C',linewidth=2.8,label='Observed data')\n",
        "ax1.annotate(\"Model performance\" ,xy=('2012-12-01 00:00:00',20),fontsize=15)\n",
        "ax1.annotate(\"RMSE = \" + str(round(ModelMetrics['CalibRMSE'],3)),xy=('2012-12-01 00:00:00',20-1.5),fontsize=15)\n",
        "ax1.annotate(\"NSE = \" + str(round(ModelMetrics['CalibNSEHf'],2)),xy=('2012-12-01 00:00:00',20-3),fontsize=15)\n",
        "plt.legend()"
      ],
      "execution_count": null,
      "outputs": []
    },
    {
      "cell_type": "markdown",
      "metadata": {
        "id": "nTZ63xgeeaXL"
      },
      "source": [
        "# Store the result into rasters"
      ]
    },
    {
      "cell_type": "code",
      "metadata": {
        "id": "Z_xSCCvJeaXL"
      },
      "source": [
        "# create list of names\n",
        "src=gdal.Open(FlowAccPath)\n",
        "\n",
        "index=pd.date_range(start,calib_end,freq=\"1H\")\n",
        "\n",
        "resultspath=\"results/upper_zone_discharge/4000/\"\n",
        "names=[resultspath+str(i)[:-6] for i in index]\n",
        "names=[i.replace(\"-\",\"_\") for i in names]\n",
        "names=[i.replace(\" \",\"_\") for i in names]\n",
        "names=[i+\".tif\" for i in names]\n",
        "\n",
        "\n",
        "Raster.RastersLike(src,q_uz_routed[:,:,:-1],names)\n"
      ],
      "execution_count": null,
      "outputs": []
    }
  ]
}