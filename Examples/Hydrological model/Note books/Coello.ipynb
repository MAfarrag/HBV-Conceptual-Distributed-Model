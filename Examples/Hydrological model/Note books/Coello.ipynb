{
  "nbformat": 4,
  "nbformat_minor": 0,
  "metadata": {
    "colab": {
      "name": "Untitled2.ipynb",
      "provenance": [],
      "collapsed_sections": [],
      "authorship_tag": "ABX9TyN3yPa41cj/aGtZkomzgmhv",
      "include_colab_link": true
    },
    "kernelspec": {
      "name": "python3",
      "display_name": "Python 3"
    },
    "language_info": {
      "name": "python"
    }
  },
  "cells": [
    {
      "cell_type": "markdown",
      "metadata": {
        "id": "view-in-github",
        "colab_type": "text"
      },
      "source": [
        "<a href=\"https://colab.research.google.com/github/MAfarrag/Hapi/blob/master/Examples/Hydrological%20model/Note%20books/Coello.ipynb\" target=\"_parent\"><img src=\"https://colab.research.google.com/assets/colab-badge.svg\" alt=\"Open In Colab\"/></a>"
      ]
    },
    {
      "cell_type": "code",
      "metadata": {
        "id": "A_ZmxeHW89Od"
      },
      "source": [
        ""
      ],
      "execution_count": null,
      "outputs": []
    },
    {
      "cell_type": "markdown",
      "metadata": {
        "id": "XALoaNRW-lvk"
      },
      "source": [
        "# Copy the data to your google drive\n",
        "data\n",
        "\n",
        "https://drive.google.com/drive/folders/1MdZh6MC9s-UVIF_AZU6fAyEAM8XflnsT?usp=sharing\n",
        "\n",
        "Go to drive.google.com.\n",
        "On the left, click Shared with me.\n",
        "Select the files or folders to which you want to add a shortcut.\n",
        "Right click the files or folders you selected. Add shortcut to Drive.\n",
        "Choose a folder.\n",
        "Click Add shortcut."
      ]
    },
    {
      "cell_type": "markdown",
      "metadata": {
        "id": "RKRJWxdy9JXi"
      },
      "source": [
        ""
      ]
    },
    {
      "cell_type": "code",
      "metadata": {
        "colab": {
          "base_uri": "https://localhost:8080/"
        },
        "id": "_lFv2LVZhdiv",
        "outputId": "7dbb8f40-697d-4b72-f2fa-8ebb5d896743"
      },
      "source": [
        "! pip install gdal\n",
        "! pip install affine\n",
        "! pip install fiona\n",
        "! pip install proj\n",
        "! pip install pyproj\n",
        "! pip install pandas\n",
        "! pip install geopandas\n",
        "! pip install matplotlib-base\n",
        "! pip install python\n",
        "! pip install scipy\n",
        "! pip install shapely\n",
        "! pip install statsmodels\n",
        "! pip install rasterio\n",
        "! pip install rasterstats\n",
        "! pip install oasis\n",
        "! pip install netCDF4\n",
        "! pip install scikit-learn\n",
        "! pip install scikit-image\n",
        "! pip install ecmwf-api-client\n",
        "! pip install joblib\n",
        "!pip install git+https://github.com/MAfarrag/HAPI.git"
      ],
      "execution_count": 1,
      "outputs": [
        {
          "output_type": "stream",
          "text": [
            "Requirement already satisfied: gdal in /usr/local/lib/python3.7/dist-packages (2.2.2)\n",
            "Collecting affine\n",
            "  Downloading https://files.pythonhosted.org/packages/ac/a6/1a39a1ede71210e3ddaf623982b06ecfc5c5c03741ae659073159184cd3e/affine-2.3.0-py2.py3-none-any.whl\n",
            "Installing collected packages: affine\n",
            "Successfully installed affine-2.3.0\n",
            "Collecting fiona\n",
            "\u001b[?25l  Downloading https://files.pythonhosted.org/packages/ea/2a/404b22883298a3efe9c6ef8d67acbf2c38443fa366ee9cd4cd34e17626ea/Fiona-1.8.19-cp37-cp37m-manylinux1_x86_64.whl (15.3MB)\n",
            "\u001b[K     |████████████████████████████████| 15.3MB 241kB/s \n",
            "\u001b[?25hRequirement already satisfied: attrs>=17 in /usr/local/lib/python3.7/dist-packages (from fiona) (20.3.0)\n",
            "Requirement already satisfied: click<8,>=4.0 in /usr/local/lib/python3.7/dist-packages (from fiona) (7.1.2)\n",
            "Requirement already satisfied: certifi in /usr/local/lib/python3.7/dist-packages (from fiona) (2020.12.5)\n",
            "Collecting cligj>=0.5\n",
            "  Downloading https://files.pythonhosted.org/packages/42/1e/947eadf10d6804bf276eb8a038bd5307996dceaaa41cfd21b7a15ec62f5d/cligj-0.7.1-py3-none-any.whl\n",
            "Collecting munch\n",
            "  Downloading https://files.pythonhosted.org/packages/cc/ab/85d8da5c9a45e072301beb37ad7f833cd344e04c817d97e0cc75681d248f/munch-2.5.0-py2.py3-none-any.whl\n",
            "Collecting click-plugins>=1.0\n",
            "  Downloading https://files.pythonhosted.org/packages/e9/da/824b92d9942f4e472702488857914bdd50f73021efea15b4cad9aca8ecef/click_plugins-1.1.1-py2.py3-none-any.whl\n",
            "Requirement already satisfied: six>=1.7 in /usr/local/lib/python3.7/dist-packages (from fiona) (1.15.0)\n",
            "Installing collected packages: cligj, munch, click-plugins, fiona\n",
            "Successfully installed click-plugins-1.1.1 cligj-0.7.1 fiona-1.8.19 munch-2.5.0\n",
            "Collecting proj\n",
            "  Downloading https://files.pythonhosted.org/packages/87/d7/032c1f29b50e8d970cde7dc25d9231a4b26747be2a0b8b5f3ab20f9d5c42/proj-0.2.0-py2.py3-none-any.whl\n",
            "Requirement already satisfied: click>=7.1.2 in /usr/local/lib/python3.7/dist-packages (from proj) (7.1.2)\n",
            "Collecting arrow>=0.15.6\n",
            "\u001b[?25l  Downloading https://files.pythonhosted.org/packages/ea/22/482a480cbee1aa7795a58b411159a4df249d6d4ceacdd9987ab946f78210/arrow-1.0.3-py3-none-any.whl (54kB)\n",
            "\u001b[K     |████████████████████████████████| 61kB 2.7MB/s \n",
            "\u001b[?25hRequirement already satisfied: python-dateutil>=2.7.0 in /usr/local/lib/python3.7/dist-packages (from arrow>=0.15.6->proj) (2.8.1)\n",
            "Requirement already satisfied: typing-extensions; python_version < \"3.8\" in /usr/local/lib/python3.7/dist-packages (from arrow>=0.15.6->proj) (3.7.4.3)\n",
            "Requirement already satisfied: six>=1.5 in /usr/local/lib/python3.7/dist-packages (from python-dateutil>=2.7.0->arrow>=0.15.6->proj) (1.15.0)\n",
            "Installing collected packages: arrow, proj\n",
            "Successfully installed arrow-1.0.3 proj-0.2.0\n",
            "Collecting pyproj\n",
            "\u001b[?25l  Downloading https://files.pythonhosted.org/packages/b1/72/d52e9ca81caef056062d71991b0e9b1d16af042245627c5d0e4916a36c4f/pyproj-3.0.1-cp37-cp37m-manylinux2010_x86_64.whl (6.5MB)\n",
            "\u001b[K     |████████████████████████████████| 6.5MB 4.1MB/s \n",
            "\u001b[?25hRequirement already satisfied: certifi in /usr/local/lib/python3.7/dist-packages (from pyproj) (2020.12.5)\n",
            "Installing collected packages: pyproj\n",
            "Successfully installed pyproj-3.0.1\n",
            "Requirement already satisfied: pandas in /usr/local/lib/python3.7/dist-packages (1.1.5)\n",
            "Requirement already satisfied: pytz>=2017.2 in /usr/local/lib/python3.7/dist-packages (from pandas) (2018.9)\n",
            "Requirement already satisfied: python-dateutil>=2.7.3 in /usr/local/lib/python3.7/dist-packages (from pandas) (2.8.1)\n",
            "Requirement already satisfied: numpy>=1.15.4 in /usr/local/lib/python3.7/dist-packages (from pandas) (1.19.5)\n",
            "Requirement already satisfied: six>=1.5 in /usr/local/lib/python3.7/dist-packages (from python-dateutil>=2.7.3->pandas) (1.15.0)\n",
            "Collecting geopandas\n",
            "\u001b[?25l  Downloading https://files.pythonhosted.org/packages/d7/bf/e9cefb69d39155d122b6ddca53893b61535fa6ffdad70bf5ef708977f53f/geopandas-0.9.0-py2.py3-none-any.whl (994kB)\n",
            "\u001b[K     |████████████████████████████████| 1.0MB 5.6MB/s \n",
            "\u001b[?25hRequirement already satisfied: fiona>=1.8 in /usr/local/lib/python3.7/dist-packages (from geopandas) (1.8.19)\n",
            "Requirement already satisfied: pandas>=0.24.0 in /usr/local/lib/python3.7/dist-packages (from geopandas) (1.1.5)\n",
            "Requirement already satisfied: pyproj>=2.2.0 in /usr/local/lib/python3.7/dist-packages (from geopandas) (3.0.1)\n",
            "Requirement already satisfied: shapely>=1.6 in /usr/local/lib/python3.7/dist-packages (from geopandas) (1.7.1)\n",
            "Requirement already satisfied: click-plugins>=1.0 in /usr/local/lib/python3.7/dist-packages (from fiona>=1.8->geopandas) (1.1.1)\n",
            "Requirement already satisfied: munch in /usr/local/lib/python3.7/dist-packages (from fiona>=1.8->geopandas) (2.5.0)\n",
            "Requirement already satisfied: certifi in /usr/local/lib/python3.7/dist-packages (from fiona>=1.8->geopandas) (2020.12.5)\n",
            "Requirement already satisfied: cligj>=0.5 in /usr/local/lib/python3.7/dist-packages (from fiona>=1.8->geopandas) (0.7.1)\n",
            "Requirement already satisfied: attrs>=17 in /usr/local/lib/python3.7/dist-packages (from fiona>=1.8->geopandas) (20.3.0)\n",
            "Requirement already satisfied: six>=1.7 in /usr/local/lib/python3.7/dist-packages (from fiona>=1.8->geopandas) (1.15.0)\n",
            "Requirement already satisfied: click<8,>=4.0 in /usr/local/lib/python3.7/dist-packages (from fiona>=1.8->geopandas) (7.1.2)\n",
            "Requirement already satisfied: pytz>=2017.2 in /usr/local/lib/python3.7/dist-packages (from pandas>=0.24.0->geopandas) (2018.9)\n",
            "Requirement already satisfied: python-dateutil>=2.7.3 in /usr/local/lib/python3.7/dist-packages (from pandas>=0.24.0->geopandas) (2.8.1)\n",
            "Requirement already satisfied: numpy>=1.15.4 in /usr/local/lib/python3.7/dist-packages (from pandas>=0.24.0->geopandas) (1.19.5)\n",
            "Installing collected packages: geopandas\n",
            "Successfully installed geopandas-0.9.0\n",
            "\u001b[31mERROR: Could not find a version that satisfies the requirement matplotlib-base (from versions: none)\u001b[0m\n",
            "\u001b[31mERROR: No matching distribution found for matplotlib-base\u001b[0m\n",
            "\u001b[31mERROR: Could not find a version that satisfies the requirement python (from versions: none)\u001b[0m\n",
            "\u001b[31mERROR: No matching distribution found for python\u001b[0m\n",
            "Requirement already satisfied: scipy in /usr/local/lib/python3.7/dist-packages (1.4.1)\n",
            "Requirement already satisfied: numpy>=1.13.3 in /usr/local/lib/python3.7/dist-packages (from scipy) (1.19.5)\n",
            "Requirement already satisfied: shapely in /usr/local/lib/python3.7/dist-packages (1.7.1)\n",
            "Requirement already satisfied: statsmodels in /usr/local/lib/python3.7/dist-packages (0.10.2)\n",
            "Requirement already satisfied: patsy>=0.4.0 in /usr/local/lib/python3.7/dist-packages (from statsmodels) (0.5.1)\n",
            "Requirement already satisfied: pandas>=0.19 in /usr/local/lib/python3.7/dist-packages (from statsmodels) (1.1.5)\n",
            "Requirement already satisfied: numpy>=1.11 in /usr/local/lib/python3.7/dist-packages (from statsmodels) (1.19.5)\n",
            "Requirement already satisfied: scipy>=0.18 in /usr/local/lib/python3.7/dist-packages (from statsmodels) (1.4.1)\n",
            "Requirement already satisfied: six in /usr/local/lib/python3.7/dist-packages (from patsy>=0.4.0->statsmodels) (1.15.0)\n",
            "Requirement already satisfied: python-dateutil>=2.7.3 in /usr/local/lib/python3.7/dist-packages (from pandas>=0.19->statsmodels) (2.8.1)\n",
            "Requirement already satisfied: pytz>=2017.2 in /usr/local/lib/python3.7/dist-packages (from pandas>=0.19->statsmodels) (2018.9)\n",
            "Collecting rasterio\n",
            "\u001b[?25l  Downloading https://files.pythonhosted.org/packages/f0/f0/8a62d7b4fe4f6093a7b7cefdac476ea5edbf3f7e40050add93298e74629b/rasterio-1.2.2-cp37-cp37m-manylinux1_x86_64.whl (19.1MB)\n",
            "\u001b[K     |████████████████████████████████| 19.1MB 1.4MB/s \n",
            "\u001b[?25hCollecting snuggs>=1.4.1\n",
            "  Downloading https://files.pythonhosted.org/packages/cc/0e/d27d6e806d6c0d1a2cfdc5d1f088e42339a0a54a09c3343f7f81ec8947ea/snuggs-1.4.7-py3-none-any.whl\n",
            "Requirement already satisfied: numpy in /usr/local/lib/python3.7/dist-packages (from rasterio) (1.19.5)\n",
            "Requirement already satisfied: affine in /usr/local/lib/python3.7/dist-packages (from rasterio) (2.3.0)\n",
            "Requirement already satisfied: attrs in /usr/local/lib/python3.7/dist-packages (from rasterio) (20.3.0)\n",
            "Requirement already satisfied: click-plugins in /usr/local/lib/python3.7/dist-packages (from rasterio) (1.1.1)\n",
            "Requirement already satisfied: cligj>=0.5 in /usr/local/lib/python3.7/dist-packages (from rasterio) (0.7.1)\n",
            "Requirement already satisfied: click<8,>=4.0 in /usr/local/lib/python3.7/dist-packages (from rasterio) (7.1.2)\n",
            "Requirement already satisfied: certifi in /usr/local/lib/python3.7/dist-packages (from rasterio) (2020.12.5)\n",
            "Requirement already satisfied: pyparsing>=2.1.6 in /usr/local/lib/python3.7/dist-packages (from snuggs>=1.4.1->rasterio) (2.4.7)\n",
            "Installing collected packages: snuggs, rasterio\n",
            "Successfully installed rasterio-1.2.2 snuggs-1.4.7\n",
            "Collecting rasterstats\n",
            "  Downloading https://files.pythonhosted.org/packages/9f/52/055b2b736e4aa1126c4619a561b44c3bc30fbe48025e6f3275b92928a0a0/rasterstats-0.15.0-py3-none-any.whl\n",
            "Collecting simplejson\n",
            "\u001b[?25l  Downloading https://files.pythonhosted.org/packages/a8/04/377418ac1e530ce2a196b54c6552c018fdf1fe776718053efb1f216bffcd/simplejson-3.17.2-cp37-cp37m-manylinux2010_x86_64.whl (128kB)\n",
            "\u001b[K     |████████████████████████████████| 133kB 6.2MB/s \n",
            "\u001b[?25hRequirement already satisfied: fiona in /usr/local/lib/python3.7/dist-packages (from rasterstats) (1.8.19)\n",
            "Requirement already satisfied: cligj>=0.4 in /usr/local/lib/python3.7/dist-packages (from rasterstats) (0.7.1)\n",
            "Requirement already satisfied: shapely in /usr/local/lib/python3.7/dist-packages (from rasterstats) (1.7.1)\n",
            "Requirement already satisfied: affine<3.0 in /usr/local/lib/python3.7/dist-packages (from rasterstats) (2.3.0)\n",
            "Requirement already satisfied: rasterio>=1.0 in /usr/local/lib/python3.7/dist-packages (from rasterstats) (1.2.2)\n",
            "Requirement already satisfied: numpy>=1.9 in /usr/local/lib/python3.7/dist-packages (from rasterstats) (1.19.5)\n",
            "Requirement already satisfied: click-plugins>=1.0 in /usr/local/lib/python3.7/dist-packages (from fiona->rasterstats) (1.1.1)\n",
            "Requirement already satisfied: certifi in /usr/local/lib/python3.7/dist-packages (from fiona->rasterstats) (2020.12.5)\n",
            "Requirement already satisfied: attrs>=17 in /usr/local/lib/python3.7/dist-packages (from fiona->rasterstats) (20.3.0)\n",
            "Requirement already satisfied: munch in /usr/local/lib/python3.7/dist-packages (from fiona->rasterstats) (2.5.0)\n",
            "Requirement already satisfied: six>=1.7 in /usr/local/lib/python3.7/dist-packages (from fiona->rasterstats) (1.15.0)\n",
            "Requirement already satisfied: click<8,>=4.0 in /usr/local/lib/python3.7/dist-packages (from fiona->rasterstats) (7.1.2)\n",
            "Requirement already satisfied: snuggs>=1.4.1 in /usr/local/lib/python3.7/dist-packages (from rasterio>=1.0->rasterstats) (1.4.7)\n",
            "Requirement already satisfied: pyparsing>=2.1.6 in /usr/local/lib/python3.7/dist-packages (from snuggs>=1.4.1->rasterio>=1.0->rasterstats) (2.4.7)\n",
            "Installing collected packages: simplejson, rasterstats\n",
            "Successfully installed rasterstats-0.15.0 simplejson-3.17.2\n",
            "Collecting oasis\n",
            "  Downloading https://files.pythonhosted.org/packages/2d/95/190ede33154be7038de16bb4f3244711ded661074c9ff67de11c85eafbdf/oasis-0.1.2-py2.py3-none-any.whl\n",
            "Requirement already satisfied: tables in /usr/local/lib/python3.7/dist-packages (from oasis) (3.4.4)\n",
            "Requirement already satisfied: numpy in /usr/local/lib/python3.7/dist-packages (from oasis) (1.19.5)\n",
            "Requirement already satisfied: sklearn in /usr/local/lib/python3.7/dist-packages (from oasis) (0.0)\n",
            "Requirement already satisfied: scipy in /usr/local/lib/python3.7/dist-packages (from oasis) (1.4.1)\n",
            "Requirement already satisfied: numexpr>=2.5.2 in /usr/local/lib/python3.7/dist-packages (from tables->oasis) (2.7.3)\n",
            "Requirement already satisfied: six>=1.9.0 in /usr/local/lib/python3.7/dist-packages (from tables->oasis) (1.15.0)\n",
            "Requirement already satisfied: scikit-learn in /usr/local/lib/python3.7/dist-packages (from sklearn->oasis) (0.22.2.post1)\n",
            "Requirement already satisfied: joblib>=0.11 in /usr/local/lib/python3.7/dist-packages (from scikit-learn->sklearn->oasis) (1.0.1)\n",
            "Installing collected packages: oasis\n",
            "Successfully installed oasis-0.1.2\n",
            "Collecting netCDF4\n",
            "\u001b[?25l  Downloading https://files.pythonhosted.org/packages/37/56/f65978898fb8e7e5df9c67531d86eb24eb04938deae3b61dbcce12c98212/netCDF4-1.5.6-cp37-cp37m-manylinux2014_x86_64.whl (4.7MB)\n",
            "\u001b[K     |████████████████████████████████| 4.7MB 4.3MB/s \n",
            "\u001b[?25hRequirement already satisfied: numpy>=1.9 in /usr/local/lib/python3.7/dist-packages (from netCDF4) (1.19.5)\n",
            "Collecting cftime\n",
            "\u001b[?25l  Downloading https://files.pythonhosted.org/packages/41/e0/3e120cca16571c5ee3b35f1ed432c2aae5dc91e2b789e8b9c3a70e721ea0/cftime-1.4.1-cp37-cp37m-manylinux2014_x86_64.whl (313kB)\n",
            "\u001b[K     |████████████████████████████████| 317kB 32.3MB/s \n",
            "\u001b[?25hInstalling collected packages: cftime, netCDF4\n",
            "Successfully installed cftime-1.4.1 netCDF4-1.5.6\n",
            "Requirement already satisfied: scikit-learn in /usr/local/lib/python3.7/dist-packages (0.22.2.post1)\n",
            "Requirement already satisfied: joblib>=0.11 in /usr/local/lib/python3.7/dist-packages (from scikit-learn) (1.0.1)\n",
            "Requirement already satisfied: numpy>=1.11.0 in /usr/local/lib/python3.7/dist-packages (from scikit-learn) (1.19.5)\n",
            "Requirement already satisfied: scipy>=0.17.0 in /usr/local/lib/python3.7/dist-packages (from scikit-learn) (1.4.1)\n",
            "Requirement already satisfied: scikit-image in /usr/local/lib/python3.7/dist-packages (0.16.2)\n",
            "Requirement already satisfied: scipy>=0.19.0 in /usr/local/lib/python3.7/dist-packages (from scikit-image) (1.4.1)\n",
            "Requirement already satisfied: imageio>=2.3.0 in /usr/local/lib/python3.7/dist-packages (from scikit-image) (2.4.1)\n",
            "Requirement already satisfied: networkx>=2.0 in /usr/local/lib/python3.7/dist-packages (from scikit-image) (2.5.1)\n",
            "Requirement already satisfied: PyWavelets>=0.4.0 in /usr/local/lib/python3.7/dist-packages (from scikit-image) (1.1.1)\n",
            "Requirement already satisfied: pillow>=4.3.0 in /usr/local/lib/python3.7/dist-packages (from scikit-image) (7.1.2)\n",
            "Requirement already satisfied: matplotlib!=3.0.0,>=2.0.0 in /usr/local/lib/python3.7/dist-packages (from scikit-image) (3.2.2)\n",
            "Requirement already satisfied: numpy>=1.13.3 in /usr/local/lib/python3.7/dist-packages (from scipy>=0.19.0->scikit-image) (1.19.5)\n",
            "Requirement already satisfied: decorator<5,>=4.3 in /usr/local/lib/python3.7/dist-packages (from networkx>=2.0->scikit-image) (4.4.2)\n",
            "Requirement already satisfied: python-dateutil>=2.1 in /usr/local/lib/python3.7/dist-packages (from matplotlib!=3.0.0,>=2.0.0->scikit-image) (2.8.1)\n",
            "Requirement already satisfied: cycler>=0.10 in /usr/local/lib/python3.7/dist-packages (from matplotlib!=3.0.0,>=2.0.0->scikit-image) (0.10.0)\n",
            "Requirement already satisfied: pyparsing!=2.0.4,!=2.1.2,!=2.1.6,>=2.0.1 in /usr/local/lib/python3.7/dist-packages (from matplotlib!=3.0.0,>=2.0.0->scikit-image) (2.4.7)\n",
            "Requirement already satisfied: kiwisolver>=1.0.1 in /usr/local/lib/python3.7/dist-packages (from matplotlib!=3.0.0,>=2.0.0->scikit-image) (1.3.1)\n",
            "Requirement already satisfied: six>=1.5 in /usr/local/lib/python3.7/dist-packages (from python-dateutil>=2.1->matplotlib!=3.0.0,>=2.0.0->scikit-image) (1.15.0)\n",
            "Collecting ecmwf-api-client\n",
            "  Downloading https://files.pythonhosted.org/packages/0b/78/393936e4c9dcd7c6e0a31200e23f5906bc9140feafad8bc723b8772e2d5f/ecmwf-api-client-1.6.1.tar.gz\n",
            "Building wheels for collected packages: ecmwf-api-client\n",
            "  Building wheel for ecmwf-api-client (setup.py) ... \u001b[?25l\u001b[?25hdone\n",
            "  Created wheel for ecmwf-api-client: filename=ecmwf_api_client-1.6.1-cp37-none-any.whl size=12619 sha256=6a0bff2c7fce85966d06d10e2d32deaac8d994359714a4e6edf488c51c02f583\n",
            "  Stored in directory: /root/.cache/pip/wheels/5d/d0/c9/cef75ed33d0af19abb56f1df6b890ff3d8b7686cd240253800\n",
            "Successfully built ecmwf-api-client\n",
            "Installing collected packages: ecmwf-api-client\n",
            "Successfully installed ecmwf-api-client-1.6.1\n",
            "Requirement already satisfied: joblib in /usr/local/lib/python3.7/dist-packages (1.0.1)\n",
            "Collecting git+https://github.com/MAfarrag/HAPI.git\n",
            "  Cloning https://github.com/MAfarrag/HAPI.git to /tmp/pip-req-build-on0qycp0\n",
            "  Running command git clone -q https://github.com/MAfarrag/HAPI.git /tmp/pip-req-build-on0qycp0\n",
            "Building wheels for collected packages: HAPI-Nile\n",
            "  Building wheel for HAPI-Nile (setup.py) ... \u001b[?25l\u001b[?25hdone\n",
            "  Created wheel for HAPI-Nile: filename=HAPI_Nile-1.0.4-cp37-none-any.whl size=16849817 sha256=0a7d63732e1b903bc3279054956b60766b164929c2fc86dd983529e605fbd9be\n",
            "  Stored in directory: /tmp/pip-ephem-wheel-cache-r3k5hyaq/wheels/01/64/ed/1b6002951ba52502516f59c8ec8081033e6c0ec59dff2c4424\n",
            "Successfully built HAPI-Nile\n",
            "Installing collected packages: HAPI-Nile\n",
            "Successfully installed HAPI-Nile-1.0.4\n"
          ],
          "name": "stdout"
        }
      ]
    },
    {
      "cell_type": "code",
      "metadata": {
        "id": "GluTqXB47E-m"
      },
      "source": [
        "import datetime as dt\n",
        "from Hapi.run import Run\n",
        "from Hapi.catchment import Catchment\n",
        "import Hapi.hbv_bergestrom92 as HBV"
      ],
      "execution_count": 4,
      "outputs": []
    },
    {
      "cell_type": "code",
      "metadata": {
        "colab": {
          "base_uri": "https://localhost:8080/"
        },
        "id": "MSRSB0E29d4f",
        "outputId": "1784ab05-71d4-45ff-89b1-7fc89efa1443"
      },
      "source": [
        "from google.colab import drive\n",
        "drive.mount('/content/drive')"
      ],
      "execution_count": 6,
      "outputs": [
        {
          "output_type": "stream",
          "text": [
            "Mounted at /content/drive\n"
          ],
          "name": "stdout"
        }
      ]
    },
    {
      "cell_type": "code",
      "metadata": {
        "id": "Qs7sYlUt9TtW"
      },
      "source": [
        "import os\n",
        "Path = \"/content/drive/My Drive/coello\"\n",
        "\n",
        "os.chdir(Path)"
      ],
      "execution_count": 7,
      "outputs": []
    },
    {
      "cell_type": "code",
      "metadata": {
        "colab": {
          "base_uri": "https://localhost:8080/"
        },
        "id": "ZUY86qbd9mcO",
        "outputId": "b9c8d13c-855a-4284-dbe5-9353670837e9"
      },
      "source": [
        "os.listdir()"
      ],
      "execution_count": 8,
      "outputs": [
        {
          "output_type": "execute_result",
          "data": {
            "text/plain": [
              "['Data', 'Model', 'requirement.txt']"
            ]
          },
          "metadata": {
            "tags": []
          },
          "execution_count": 8
        }
      ]
    },
    {
      "cell_type": "code",
      "metadata": {
        "id": "fmChXxEu9Prl"
      },
      "source": [
        "# PrecPath = path + \"meteodata/4000/calib/prec\" #\n",
        "PrecPath = Path + \"/Data/00inputs/meteodata/4000/calib/prec-CPC-NOAA\" #\n",
        "# PrecPath = Path + \"/Data/00inputs/meteodata/4000/calib/prec-MSWEP\" #\n",
        "Evap_Path = Path + \"/Data/00inputs/meteodata/4000/calib/evap\"\n",
        "TempPath = Path + \"/Data/00inputs/meteodata/4000/calib/temp\"\n",
        "FlowAccPath = Path + \"/Data/00inputs/GIS/4000/acc4000.tif\"\n",
        "FlowDPath = Path + \"/Data/00inputs/GIS/4000/fd4000.tif\"\n",
        "ParPathRun = Path + \"/Model/results/parameters/02lumped parameters/Parameter set-1/\"\n",
        "# ParPathRun = Path + \"/Model/results/parameters/02lumped parameters/Parameter set-Avg/\"\n",
        "SaveTo = Path + \"/Model/results/\""
      ],
      "execution_count": 11,
      "outputs": []
    },
    {
      "cell_type": "code",
      "metadata": {
        "id": "0px7ny5A9xxg"
      },
      "source": [
        "AreaCoeff = 1530\n",
        "InitialCond = [0,5,5,5,0]\n",
        "Snow = 0\n",
        "\"\"\"\n",
        "Create the model object and read the input data\n",
        "\"\"\"\n",
        "start = \"2009-01-01\"\n",
        "end = \"2011-12-31\"\n",
        "name = \"Coello\"\n",
        "Coello = Catchment(name, start, end, SpatialResolution = \"Distributed\")"
      ],
      "execution_count": 13,
      "outputs": []
    },
    {
      "cell_type": "code",
      "metadata": {
        "colab": {
          "base_uri": "https://localhost:8080/"
        },
        "id": "F1gWl-25-xUY",
        "outputId": "b9a5d1b2-0428-431f-8548-94563f0dddac"
      },
      "source": [
        "Coello.ReadRainfall(PrecPath)"
      ],
      "execution_count": 14,
      "outputs": [
        {
          "output_type": "stream",
          "text": [
            "Rainfall data are read successfully\n"
          ],
          "name": "stdout"
        }
      ]
    },
    {
      "cell_type": "code",
      "metadata": {
        "colab": {
          "base_uri": "https://localhost:8080/"
        },
        "id": "m3i2VO62-1vi",
        "outputId": "eb7997e3-6a11-4584-cd13-47379edac2a9"
      },
      "source": [
        "Coello.ReadTemperature(TempPath)"
      ],
      "execution_count": 16,
      "outputs": [
        {
          "output_type": "stream",
          "text": [
            "Temperature data are read successfully\n"
          ],
          "name": "stdout"
        }
      ]
    },
    {
      "cell_type": "code",
      "metadata": {
        "id": "pFxpvx5O_xwg"
      },
      "source": [
        "Coello.ReadET(Evap_Path)"
      ],
      "execution_count": null,
      "outputs": []
    },
    {
      "cell_type": "code",
      "metadata": {
        "id": "rWiptEla_zpU"
      },
      "source": [
        "Coello.ReadFlowAcc(FlowAccPath)"
      ],
      "execution_count": null,
      "outputs": []
    },
    {
      "cell_type": "code",
      "metadata": {
        "id": "oh98Av3J_1E0"
      },
      "source": [
        "Coello.ReadFlowDir(FlowDPath)"
      ],
      "execution_count": null,
      "outputs": []
    },
    {
      "cell_type": "code",
      "metadata": {
        "id": "aAy7N4rU_2li"
      },
      "source": [
        "Coello.ReadParameters(ParPathRun, Snow)"
      ],
      "execution_count": null,
      "outputs": []
    },
    {
      "cell_type": "code",
      "metadata": {
        "id": "5UeLX8AH_3zQ"
      },
      "source": [
        "Coello.ReadLumpedModel(HBV, AreaCoeff, InitialCond)"
      ],
      "execution_count": null,
      "outputs": []
    },
    {
      "cell_type": "code",
      "metadata": {
        "id": "tJV-9imh_NSM"
      },
      "source": [
        "Coello.ReadGaugeTable(Path + \"/Data/00inputs/Discharge/stations/gauges.csv\", FlowAccPath)\n",
        "GaugesPath = Path + \"/Data/00inputs/Discharge/stations/\"\n",
        "Coello.ReadDischargeGauges(GaugesPath, column='id', fmt=\"%Y-%m-%d\")"
      ],
      "execution_count": null,
      "outputs": []
    },
    {
      "cell_type": "code",
      "metadata": {
        "id": "iuO4Aw2y_XXR"
      },
      "source": [
        "Run.RunHapi(Coello)"
      ],
      "execution_count": null,
      "outputs": []
    },
    {
      "cell_type": "code",
      "metadata": {
        "id": "4NMTK4L0_ZoG"
      },
      "source": [
        "Coello.ExtractDischarge(Factor=Coello.GaugesTable['area ratio'].tolist())\n",
        "\n",
        "for i in range(len(Coello.GaugesTable)):\n",
        "    gaugeid = Coello.GaugesTable.loc[i,'id']\n",
        "    print(\"----------------------------------\")\n",
        "    print(\"Gauge - \" +str(gaugeid))\n",
        "    print(\"RMSE= \" + str(round(Coello.Metrics.loc['RMSE',gaugeid],2)))\n",
        "    print(\"NSE= \" + str(round(Coello.Metrics.loc['NSE',gaugeid],2)))\n",
        "    print(\"NSEhf= \" + str(round(Coello.Metrics.loc['NSEhf',gaugeid],2)))\n",
        "    print(\"KGE= \" + str(round(Coello.Metrics.loc['KGE',gaugeid],2)))\n",
        "    print(\"WB= \" + str(round(Coello.Metrics.loc['WB',gaugeid],2)))\n",
        "    print(\"Pearson CC= \" + str(round(Coello.Metrics.loc['Pearson-CC',gaugeid],2)))\n",
        "    print(\"R2 = \" + str(round(Coello.Metrics.loc['R2',gaugeid],2)))"
      ],
      "execution_count": null,
      "outputs": []
    },
    {
      "cell_type": "code",
      "metadata": {
        "id": "18py2wBT_bnq"
      },
      "source": [
        "gaugei = 5\n",
        "plotstart = \"2009-01-01\"\n",
        "plotend = \"2011-12-31\"\n",
        "\n",
        "Coello.PlotHydrograph(plotstart, plotend, gaugei)"
      ],
      "execution_count": null,
      "outputs": []
    },
    {
      "cell_type": "code",
      "metadata": {
        "id": "MAi_hAvg_dsn"
      },
      "source": [
        "%matplotlib inline\n",
        "from IPython.display import HTML\n",
        "plotstart = \"2009-01-01\"\n",
        "plotend = \"2009-01-20\"\n",
        "Option = 1\n",
        "threshold=10\n",
        "\n",
        "Anim = Coello.PlotDistributedResults(plotstart, plotend, Figsize=(9,9), Option = Option, threshold=160, PlotNumbers=True,\n",
        "                                TicksSpacing = 5,Interval = 200, Gauges=True, cmap='inferno', Textloc=[0.1,0.2],\n",
        "                                Gaugecolor='red',ColorScale = 2, IDcolor='blue', IDsize=25)\n",
        "HTML(Anim.to_html5_video())"
      ],
      "execution_count": null,
      "outputs": []
    },
    {
      "cell_type": "code",
      "metadata": {
        "id": "eKR5MZsI_gPl"
      },
      "source": [
        "Path = SaveTo + \"anim.mov\"\n",
        "Coello.SaveAnimation(VideoFormat=\"mov\",Path=Path,SaveFrames=3)"
      ],
      "execution_count": null,
      "outputs": []
    },
    {
      "cell_type": "code",
      "metadata": {
        "id": "KQQywpSB_i_G"
      },
      "source": [
        "StartDate = \"2009-01-01\"\n",
        "EndDate = \"2010-04-20\"\n",
        "Prefix = 'Qtot_'\n",
        "\n",
        "Coello.SaveResults(FlowAccPath, Result=1, StartDate=StartDate, EndDate=EndDate,\n",
        "                    Path=SaveTo, Prefix=Prefix)"
      ],
      "execution_count": null,
      "outputs": []
    }
  ]
}