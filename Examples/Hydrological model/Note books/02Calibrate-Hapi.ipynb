{
 "cells": [
  {
   "cell_type": "markdown",
   "id": "75d19ebc-b4dd-49b5-96c6-5732e9dfb794",
   "metadata": {},
   "source": [
    "# Hapi Calibration"
   ]
  },
  {
   "cell_type": "markdown",
   "id": "06866108-fead-4f50-802f-188297d3c1e0",
   "metadata": {},
   "source": [
    "- please change the Path to the directory where you stored the case study data"
   ]
  },
  {
   "cell_type": "code",
   "execution_count": 1,
   "id": "25623895",
   "metadata": {},
   "outputs": [],
   "source": [
    "import os\n",
    "Path = \"F:/02Case studies/Coello\"\n",
    "os.chdir(Path)\n",
    "#os.listdir(Path)"
   ]
  },
  {
   "cell_type": "code",
   "execution_count": 2,
   "id": "ef94568f",
   "metadata": {},
   "outputs": [],
   "source": [
    "import numpy as np\n",
    "import datetime as dt\n",
    "import gdal\n",
    "from Hapi.calibration import Calibration\n",
    "import Hapi.hbv_bergestrom92 as HBV\n",
    "\n",
    "from Hapi.distparameters import DistParameters as DP\n",
    "import Hapi.performancecriteria as PC"
   ]
  },
  {
   "cell_type": "markdown",
   "id": "f8674464",
   "metadata": {},
   "source": [
    "### Paths"
   ]
  },
  {
   "cell_type": "code",
   "execution_count": 3,
   "id": "f67d0803",
   "metadata": {},
   "outputs": [],
   "source": [
    "# PrecPath = path + \"meteodata/4000/calib/prec\" #\n",
    "PrecPath = \"Hapi/Data/00inputs/meteodata/4000/calib/prec-CPC-NOAA\" #\n",
    "# PrecPath = \"Hapi/Data/00inputs/meteodata/4000/calib/prec-MSWEP\" #\n",
    "Evap_Path = \"Hapi/Data/00inputs/meteodata/4000/calib/evap\"\n",
    "TempPath = \"Hapi/Data/00inputs/meteodata/4000/calib/temp\"\n",
    "FlowAccPath = \"Hapi/Data/00inputs/GIS/4000/acc4000.tif\"\n",
    "FlowDPath = \"Hapi/Data/00inputs/GIS/4000/fd4000.tif\"\n",
    "ParPathRun = \"Hapi/Model/results/parameters/02lumped parameters/Parameter set-1/\"\n",
    "# ParPathRun = \"Hapi/Model/results/parameters/02lumped parameters/Parameter set-Avg/\"\n",
    "SaveTo = \"/Hapi/Model/results/\""
   ]
  },
  {
   "cell_type": "markdown",
   "id": "e1930b52",
   "metadata": {},
   "source": [
    "# Calibration Object"
   ]
  },
  {
   "cell_type": "code",
   "execution_count": 6,
   "id": "50bca8ac",
   "metadata": {},
   "outputs": [],
   "source": [
    "AreaCoeff = 1530\n",
    "#[sp,sm,uz,lz,wc]\n",
    "InitialCond = [0,5,5,5,0]\n",
    "Snow = 0\n",
    "\n",
    "\"\"\"\n",
    "Create the model object and read the input data\n",
    "\"\"\"\n",
    "Sdate = '2009-01-01'\n",
    "Edate = '2011-12-31'\n",
    "name = \"Coello\"\n",
    "Coello = Calibration(name, Sdate, Edate, SpatialResolution = \"Distributed\")"
   ]
  },
  {
   "cell_type": "markdown",
   "id": "c8d5eb9b",
   "metadata": {},
   "source": [
    "### Meteorological & GIS Data"
   ]
  },
  {
   "cell_type": "code",
   "execution_count": 7,
   "id": "96b27332",
   "metadata": {},
   "outputs": [
    {
     "name": "stdout",
     "output_type": "stream",
     "text": [
      "Rainfall data are read successfully\n",
      "Temperature data are read successfully\n",
      "Potential Evapotranspiration data are read successfully\n",
      "Flow Accmulation input is read successfully\n",
      "Flow Direction input is read successfully\n",
      "Lumped model is read successfully\n"
     ]
    }
   ],
   "source": [
    "Coello.ReadRainfall(PrecPath)\n",
    "Coello.ReadTemperature(TempPath)\n",
    "Coello.ReadET(Evap_Path)\n",
    "\n",
    "Coello.ReadFlowAcc(FlowAccPath)\n",
    "Coello.ReadFlowDir(FlowDPath)\n",
    "Coello.ReadLumpedModel(HBV, AreaCoeff, InitialCond)"
   ]
  },
  {
   "cell_type": "code",
   "execution_count": 8,
   "id": "dfd56642",
   "metadata": {},
   "outputs": [
    {
     "name": "stdout",
     "output_type": "stream",
     "text": [
      "Parameters bounds are read successfully\n"
     ]
    }
   ],
   "source": [
    "UB=np.loadtxt(\"HAPI/Data/00inputs/Basic_inputs/UB - tot.txt\", usecols=0)\n",
    "LB=np.loadtxt(\"HAPI/Data/00inputs/Basic_inputs/LB - tot.txt\", usecols=0)\n",
    "Coello.ReadParametersBounds(UB, LB, Snow)"
   ]
  },
  {
   "cell_type": "markdown",
   "id": "911a5587",
   "metadata": {},
   "source": [
    "### spatial variability function\n",
    "\n",
    "define how generated parameters are going to be distributed spatially\n",
    "totaly distributed or totally distributed with some parameters are lumped\n",
    "for the whole catchment or HRUs or HRUs with some lumped parameters\n",
    "for muskingum parameters k & x include the upper and lower bound in both\n",
    "UB & LB with the order of Klb then kub\n",
    "function inside the calibration algorithm is written as following\n",
    "\n",
    "par_dist = SpatialVarFun(par,*SpatialVarArgs,kub=kub,klb=klb)\n"
   ]
  },
  {
   "cell_type": "code",
   "execution_count": 9,
   "id": "b4365094",
   "metadata": {},
   "outputs": [
    {
     "data": {
      "text/plain": [
       "980"
      ]
     },
     "execution_count": 9,
     "metadata": {},
     "output_type": "execute_result"
    }
   ],
   "source": [
    "raster = gdal.Open(FlowAccPath)\n",
    "#-------------\n",
    "# for lumped catchment parameters\n",
    "no_parameters = 12\n",
    "klb = 0.5\n",
    "kub = 1\n",
    "#------------\n",
    "no_lumped_par = 1\n",
    "lumped_par_pos = [7]\n",
    "\n",
    "SpatialVarFun = DP(raster, no_parameters, no_lumped_par=no_lumped_par,\n",
    "                   lumped_par_pos=lumped_par_pos,Function=2, Klb=klb, Kub=kub)\n",
    "# calculate no of parameters that optimization algorithm is going to generate\n",
    "SpatialVarFun.ParametersNO"
   ]
  },
  {
   "cell_type": "markdown",
   "id": "acb5017f",
   "metadata": {},
   "source": [
    "### Gauges"
   ]
  },
  {
   "cell_type": "code",
   "execution_count": 10,
   "id": "810f9eae",
   "metadata": {},
   "outputs": [
    {
     "name": "stdout",
     "output_type": "stream",
     "text": [
      "Gauge Table is read successfully\n",
      "Gauges data are read successfully\n"
     ]
    }
   ],
   "source": [
    "Coello.ReadGaugeTable(\"Hapi/Data/00inputs/Discharge/stations/gauges.csv\", FlowAccPath)\n",
    "GaugesPath = \"Hapi/Data/00inputs/Discharge/stations/\"\n",
    "Coello.ReadDischargeGauges(GaugesPath, column='id', fmt=\"%Y-%m-%d\")"
   ]
  },
  {
   "cell_type": "markdown",
   "id": "9772791d",
   "metadata": {},
   "source": [
    "### Objective function"
   ]
  },
  {
   "cell_type": "code",
   "execution_count": 11,
   "id": "c2d7fe5d",
   "metadata": {},
   "outputs": [
    {
     "name": "stdout",
     "output_type": "stream",
     "text": [
      "Objective function is read successfully\n"
     ]
    }
   ],
   "source": [
    "coordinates = Coello.GaugesTable[['id','x','y','weight']][:]\n",
    "\n",
    "# define the objective function and its arguments\n",
    "OF_args = [coordinates]\n",
    "\n",
    "def OF(Qobs, Qout, q_uz_routed, q_lz_trans, coordinates):\n",
    "    Coello.ExtractDischarge()\n",
    "    all_errors=[]\n",
    "    # error for all internal stations\n",
    "    for i in range(len(coordinates)):\n",
    "        all_errors.append((PC.RMSE(Qobs.loc[:,Qobs.columns[0]],Coello.Qsim[:,i]))) #*coordinates.loc[coordinates.index[i],'weight']\n",
    "    print(all_errors)\n",
    "    error = sum(all_errors)\n",
    "    return error\n",
    "\n",
    "Coello.ReadObjectiveFn(OF, OF_args)"
   ]
  },
  {
   "cell_type": "markdown",
   "id": "8fed5acd",
   "metadata": {},
   "source": [
    "### Optimization\n",
    "\n",
    "API options\n",
    "Create the options dictionary all the optimization parameters should be passed\n",
    "to the optimization object inside the option dictionary:\n",
    "\n",
    "to see all options import Optimizer class and check the documentation of the\n",
    "method setOption\n",
    "\n",
    "- for the filename please provide the full path\n"
   ]
  },
  {
   "cell_type": "code",
   "execution_count": 12,
   "id": "c29f26ef",
   "metadata": {},
   "outputs": [
    {
     "name": "stdout",
     "output_type": "stream",
     "text": [
      "hms 100\n",
      "hmcr 0.95\n",
      "par 0.65\n",
      "dbw 2000\n",
      "fileout 1\n",
      "filename F:/02Case studies/Coello/Hapi/Model/results/parameters/Coello_2021-04-13.txt\n"
     ]
    }
   ],
   "source": [
    "ApiObjArgs = dict(hms=100, hmcr=0.95, par=0.65, dbw=2000, fileout=1,\n",
    "                      filename =\"F:/02Case studies/Coello/Hapi/Model/results/parameters/Coello_\"+str(dt.datetime.now())[0:10]+\".txt\") # SaveTo + \n",
    "\n",
    "for i in range(len(ApiObjArgs)):\n",
    "    print(list(ApiObjArgs.keys())[i], str(ApiObjArgs[list(ApiObjArgs.keys())[i]]))\n",
    "\n",
    "#pll_type = 'POA'\n",
    "pll_type = None\n",
    "\n",
    "ApiSolveArgs = dict(store_sol=True, display_opts=True, store_hst=True,hot_start=False)\n",
    "\n",
    "OptimizationArgs=[ApiObjArgs, pll_type, ApiSolveArgs]"
   ]
  },
  {
   "cell_type": "markdown",
   "id": "a038c76b",
   "metadata": {},
   "source": [
    "### Run Calibration"
   ]
  },
  {
   "cell_type": "code",
   "execution_count": null,
   "id": "bc38500d",
   "metadata": {},
   "outputs": [],
   "source": [
    "cal_parameters = Coello.RunCalibration(SpatialVarFun, OptimizationArgs,\n",
    "                                          printError=0)"
   ]
  },
  {
   "cell_type": "markdown",
   "id": "7210051b",
   "metadata": {},
   "source": [
    "### Convert Parameters to rasters"
   ]
  },
  {
   "cell_type": "code",
   "execution_count": null,
   "id": "cbe6f15d",
   "metadata": {},
   "outputs": [],
   "source": [
    "SpatialVarFun.Function(Coello.Parameters, kub=SpatialVarFun.Kub, klb=SpatialVarFun.Klb)\n",
    "SpatialVarFun.SaveParameters(SaveTo)"
   ]
  }
 ],
 "metadata": {
  "kernelspec": {
   "display_name": "Python 3",
   "language": "python",
   "name": "python3"
  },
  "language_info": {
   "codemirror_mode": {
    "name": "ipython",
    "version": 3
   },
   "file_extension": ".py",
   "mimetype": "text/x-python",
   "name": "python",
   "nbconvert_exporter": "python",
   "pygments_lexer": "ipython3",
   "version": "3.8.8"
  }
 },
 "nbformat": 4,
 "nbformat_minor": 5
}
