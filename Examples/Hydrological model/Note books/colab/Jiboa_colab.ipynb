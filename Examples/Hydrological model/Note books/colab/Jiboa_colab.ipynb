{
  "nbformat": 4,
  "nbformat_minor": 0,
  "metadata": {
    "colab": {
      "name": "Jiboa-colab.ipynb",
      "provenance": [],
      "collapsed_sections": [],
      "toc_visible": true
    },
    "kernelspec": {
      "display_name": "Python 3",
      "language": "python",
      "name": "python3"
    },
    "language_info": {
      "codemirror_mode": {
        "name": "ipython",
        "version": 3
      },
      "file_extension": ".py",
      "mimetype": "text/x-python",
      "name": "python",
      "nbconvert_exporter": "python",
      "pygments_lexer": "ipython3",
      "version": "3.7.4"
    }
  },
  "cells": [
    {
      "cell_type": "markdown",
      "metadata": {
        "id": "M3wlmF0_eaWn"
      },
      "source": [
        "# Jiboa Case Study"
      ]
    },
    {
      "cell_type": "markdown",
      "metadata": {
        "id": "zf0ye029eaWq"
      },
      "source": [
        "This code is prepared to Run the distributed model for jiboa rover in El Salvador\n",
        "wher the catchment is consisted os a ustream lake and a volcanic area\n",
        "-   you have to make the root directory to the examples folder to enable the code\n",
        "    from reading input files"
      ]
    },
    {
      "cell_type": "code",
      "metadata": {
        "colab": {
          "base_uri": "https://localhost:8080/"
        },
        "id": "VX1HFGcwfhEJ",
        "outputId": "b8e03016-20d0-44d2-ed7c-eb5643af40e4"
      },
      "source": [
        "from google.colab import drive\n",
        "drive.mount('/content/drive')"
      ],
      "execution_count": null,
      "outputs": [
        {
          "output_type": "stream",
          "text": [
            "Drive already mounted at /content/drive; to attempt to forcibly remount, call drive.mount(\"/content/drive\", force_remount=True).\n"
          ],
          "name": "stdout"
        }
      ]
    },
    {
      "cell_type": "code",
      "metadata": {
        "colab": {
          "base_uri": "https://localhost:8080/"
        },
        "id": "lppgfy9UBhAk",
        "outputId": "60a6bae6-46a8-4cca-9e1a-2003d698c382"
      },
      "source": [
        "! pip install gdal\n",
        "! pip install affine\n",
        "! pip install fiona\n",
        "! pip install proj\n",
        "! pip install pyproj\n",
        "! pip install pandas\n",
        "! pip install geopandas\n",
        "! pip install matplotlib-base\n",
        "! pip install python\n",
        "! pip install scipy\n",
        "! pip install shapely\n",
        "! pip install statsmodels\n",
        "! pip install rasterio\n",
        "! pip install rasterstats\n",
        "! pip install oasis\n",
        "! pip install netCDF4\n",
        "! pip install scikit-learn\n",
        "! pip install scikit-image\n",
        "! pip install ecmwf-api-client\n",
        "! pip install joblib\n",
        "!pip install git+https://github.com/MAfarrag/HAPI.git"
      ],
      "execution_count": null,
      "outputs": [
        {
          "output_type": "stream",
          "text": [
            "Collecting gdal\n",
            "  Using cached GDAL-3.2.2.tar.gz (601 kB)\n",
            "Building wheels for collected packages: gdal\n",
            "  Building wheel for gdal (setup.py) ... \u001b[?25lerror\n",
            "\u001b[31m  ERROR: Failed building wheel for gdal\u001b[0m\n",
            "\u001b[?25h  Running setup.py clean for gdal\n",
            "Failed to build gdal\n",
            "Installing collected packages: gdal\n",
            "    Running setup.py install for gdal ... \u001b[?25l\u001b[?25herror\n",
            "\u001b[31mERROR: Command errored out with exit status 1: /usr/local/bin/python -u -c 'import sys, setuptools, tokenize; sys.argv[0] = '\"'\"'/tmp/pip-install-n58she1w/gdal_995e727573184be88183082423a5500b/setup.py'\"'\"'; __file__='\"'\"'/tmp/pip-install-n58she1w/gdal_995e727573184be88183082423a5500b/setup.py'\"'\"';f=getattr(tokenize, '\"'\"'open'\"'\"', open)(__file__);code=f.read().replace('\"'\"'\\r\\n'\"'\"', '\"'\"'\\n'\"'\"');f.close();exec(compile(code, __file__, '\"'\"'exec'\"'\"'))' install --record /tmp/pip-record-auog8oc8/install-record.txt --single-version-externally-managed --compile --install-headers /usr/local/include/python3.7m/gdal Check the logs for full command output.\u001b[0m\n",
            "Requirement already satisfied: affine in /usr/local/lib/python3.7/site-packages (2.3.0)\n",
            "Requirement already satisfied: fiona in /usr/local/lib/python3.7/site-packages (1.8.19)\n",
            "Requirement already satisfied: click<8,>=4.0 in /usr/local/lib/python3.7/site-packages (from fiona) (7.1.2)\n",
            "Requirement already satisfied: click-plugins>=1.0 in /usr/local/lib/python3.7/site-packages (from fiona) (1.1.1)\n",
            "Requirement already satisfied: attrs>=17 in /usr/local/lib/python3.7/site-packages (from fiona) (20.3.0)\n",
            "Requirement already satisfied: munch in /usr/local/lib/python3.7/site-packages (from fiona) (2.5.0)\n",
            "Requirement already satisfied: cligj>=0.5 in /usr/local/lib/python3.7/site-packages (from fiona) (0.7.1)\n",
            "Requirement already satisfied: six>=1.7 in /usr/local/lib/python3.7/site-packages (from fiona) (1.15.0)\n",
            "Requirement already satisfied: certifi in /usr/local/lib/python3.7/site-packages (from fiona) (2020.12.5)\n",
            "Requirement already satisfied: proj in /usr/local/lib/python3.7/site-packages (0.2.0)\n",
            "Requirement already satisfied: arrow>=0.15.6 in /usr/local/lib/python3.7/site-packages (from proj) (1.0.3)\n",
            "Requirement already satisfied: click>=7.1.2 in /usr/local/lib/python3.7/site-packages (from proj) (7.1.2)\n",
            "Requirement already satisfied: python-dateutil>=2.7.0 in /usr/local/lib/python3.7/site-packages (from arrow>=0.15.6->proj) (2.8.1)\n",
            "Requirement already satisfied: typing-extensions in /usr/local/lib/python3.7/site-packages (from arrow>=0.15.6->proj) (3.7.4.3)\n",
            "Requirement already satisfied: six>=1.5 in /usr/local/lib/python3.7/site-packages (from python-dateutil>=2.7.0->arrow>=0.15.6->proj) (1.15.0)\n",
            "Requirement already satisfied: pyproj in /usr/local/lib/python3.7/site-packages (3.0.1)\n",
            "Requirement already satisfied: certifi in /usr/local/lib/python3.7/site-packages (from pyproj) (2020.12.5)\n",
            "Requirement already satisfied: pandas in /usr/local/lib/python3.7/site-packages (1.1.5)\n",
            "Requirement already satisfied: numpy>=1.15.4 in /usr/local/lib/python3.7/site-packages (from pandas) (1.20.2)\n",
            "Requirement already satisfied: pytz>=2017.2 in /usr/local/lib/python3.7/site-packages (from pandas) (2021.1)\n",
            "Requirement already satisfied: python-dateutil>=2.7.3 in /usr/local/lib/python3.7/site-packages (from pandas) (2.8.1)\n",
            "Requirement already satisfied: six>=1.5 in /usr/local/lib/python3.7/site-packages (from python-dateutil>=2.7.3->pandas) (1.15.0)\n",
            "Requirement already satisfied: geopandas in /usr/local/lib/python3.7/site-packages (0.9.0)\n",
            "Requirement already satisfied: shapely>=1.6 in /usr/local/lib/python3.7/site-packages (from geopandas) (1.7.1)\n",
            "Requirement already satisfied: fiona>=1.8 in /usr/local/lib/python3.7/site-packages (from geopandas) (1.8.19)\n",
            "Requirement already satisfied: pandas>=0.24.0 in /usr/local/lib/python3.7/site-packages (from geopandas) (1.1.5)\n",
            "Requirement already satisfied: pyproj>=2.2.0 in /usr/local/lib/python3.7/site-packages (from geopandas) (3.0.1)\n",
            "Requirement already satisfied: certifi in /usr/local/lib/python3.7/site-packages (from fiona>=1.8->geopandas) (2020.12.5)\n",
            "Requirement already satisfied: munch in /usr/local/lib/python3.7/site-packages (from fiona>=1.8->geopandas) (2.5.0)\n",
            "Requirement already satisfied: click-plugins>=1.0 in /usr/local/lib/python3.7/site-packages (from fiona>=1.8->geopandas) (1.1.1)\n",
            "Requirement already satisfied: six>=1.7 in /usr/local/lib/python3.7/site-packages (from fiona>=1.8->geopandas) (1.15.0)\n",
            "Requirement already satisfied: attrs>=17 in /usr/local/lib/python3.7/site-packages (from fiona>=1.8->geopandas) (20.3.0)\n",
            "Requirement already satisfied: click<8,>=4.0 in /usr/local/lib/python3.7/site-packages (from fiona>=1.8->geopandas) (7.1.2)\n",
            "Requirement already satisfied: cligj>=0.5 in /usr/local/lib/python3.7/site-packages (from fiona>=1.8->geopandas) (0.7.1)\n",
            "Requirement already satisfied: pytz>=2017.2 in /usr/local/lib/python3.7/site-packages (from pandas>=0.24.0->geopandas) (2021.1)\n",
            "Requirement already satisfied: numpy>=1.15.4 in /usr/local/lib/python3.7/site-packages (from pandas>=0.24.0->geopandas) (1.20.2)\n",
            "Requirement already satisfied: python-dateutil>=2.7.3 in /usr/local/lib/python3.7/site-packages (from pandas>=0.24.0->geopandas) (2.8.1)\n",
            "\u001b[31mERROR: Could not find a version that satisfies the requirement matplotlib-base\u001b[0m\n",
            "\u001b[31mERROR: No matching distribution found for matplotlib-base\u001b[0m\n",
            "\u001b[31mERROR: Could not find a version that satisfies the requirement python\u001b[0m\n",
            "\u001b[31mERROR: No matching distribution found for python\u001b[0m\n",
            "Requirement already satisfied: scipy in /usr/local/lib/python3.7/site-packages (1.6.2)\n",
            "Requirement already satisfied: numpy<1.23.0,>=1.16.5 in /usr/local/lib/python3.7/site-packages (from scipy) (1.20.2)\n",
            "Requirement already satisfied: shapely in /usr/local/lib/python3.7/site-packages (1.7.1)\n",
            "Requirement already satisfied: statsmodels in /usr/local/lib/python3.7/site-packages (0.12.2)\n",
            "Requirement already satisfied: scipy>=1.1 in /usr/local/lib/python3.7/site-packages (from statsmodels) (1.6.2)\n",
            "Requirement already satisfied: numpy>=1.15 in /usr/local/lib/python3.7/site-packages (from statsmodels) (1.20.2)\n",
            "Requirement already satisfied: patsy>=0.5 in /usr/local/lib/python3.7/site-packages (from statsmodels) (0.5.1)\n",
            "Requirement already satisfied: pandas>=0.21 in /usr/local/lib/python3.7/site-packages (from statsmodels) (1.1.5)\n",
            "Requirement already satisfied: python-dateutil>=2.7.3 in /usr/local/lib/python3.7/site-packages (from pandas>=0.21->statsmodels) (2.8.1)\n",
            "Requirement already satisfied: pytz>=2017.2 in /usr/local/lib/python3.7/site-packages (from pandas>=0.21->statsmodels) (2021.1)\n",
            "Requirement already satisfied: six in /usr/local/lib/python3.7/site-packages (from patsy>=0.5->statsmodels) (1.15.0)\n",
            "Requirement already satisfied: rasterio in /usr/local/lib/python3.7/site-packages (1.2.2)\n",
            "Requirement already satisfied: click<8,>=4.0 in /usr/local/lib/python3.7/site-packages (from rasterio) (7.1.2)\n",
            "Requirement already satisfied: snuggs>=1.4.1 in /usr/local/lib/python3.7/site-packages (from rasterio) (1.4.7)\n",
            "Requirement already satisfied: numpy in /usr/local/lib/python3.7/site-packages (from rasterio) (1.20.2)\n",
            "Requirement already satisfied: cligj>=0.5 in /usr/local/lib/python3.7/site-packages (from rasterio) (0.7.1)\n",
            "Requirement already satisfied: affine in /usr/local/lib/python3.7/site-packages (from rasterio) (2.3.0)\n",
            "Requirement already satisfied: certifi in /usr/local/lib/python3.7/site-packages (from rasterio) (2020.12.5)\n",
            "Requirement already satisfied: click-plugins in /usr/local/lib/python3.7/site-packages (from rasterio) (1.1.1)\n",
            "Requirement already satisfied: attrs in /usr/local/lib/python3.7/site-packages (from rasterio) (20.3.0)\n",
            "Requirement already satisfied: pyparsing>=2.1.6 in /usr/local/lib/python3.7/site-packages (from snuggs>=1.4.1->rasterio) (2.4.7)\n",
            "Requirement already satisfied: rasterstats in /usr/local/lib/python3.7/site-packages (0.15.0)\n",
            "Requirement already satisfied: fiona in /usr/local/lib/python3.7/site-packages (from rasterstats) (1.8.19)\n",
            "Requirement already satisfied: simplejson in /usr/local/lib/python3.7/site-packages (from rasterstats) (3.17.2)\n",
            "Requirement already satisfied: numpy>=1.9 in /usr/local/lib/python3.7/site-packages (from rasterstats) (1.20.2)\n",
            "Requirement already satisfied: rasterio>=1.0 in /usr/local/lib/python3.7/site-packages (from rasterstats) (1.2.2)\n",
            "Requirement already satisfied: shapely in /usr/local/lib/python3.7/site-packages (from rasterstats) (1.7.1)\n",
            "Requirement already satisfied: affine<3.0 in /usr/local/lib/python3.7/site-packages (from rasterstats) (2.3.0)\n",
            "Requirement already satisfied: cligj>=0.4 in /usr/local/lib/python3.7/site-packages (from rasterstats) (0.7.1)\n",
            "Requirement already satisfied: click<8,>=4.0 in /usr/local/lib/python3.7/site-packages (from cligj>=0.4->rasterstats) (7.1.2)\n",
            "Requirement already satisfied: attrs in /usr/local/lib/python3.7/site-packages (from rasterio>=1.0->rasterstats) (20.3.0)\n",
            "Requirement already satisfied: certifi in /usr/local/lib/python3.7/site-packages (from rasterio>=1.0->rasterstats) (2020.12.5)\n",
            "Requirement already satisfied: click-plugins in /usr/local/lib/python3.7/site-packages (from rasterio>=1.0->rasterstats) (1.1.1)\n",
            "Requirement already satisfied: snuggs>=1.4.1 in /usr/local/lib/python3.7/site-packages (from rasterio>=1.0->rasterstats) (1.4.7)\n",
            "Requirement already satisfied: pyparsing>=2.1.6 in /usr/local/lib/python3.7/site-packages (from snuggs>=1.4.1->rasterio>=1.0->rasterstats) (2.4.7)\n",
            "Requirement already satisfied: munch in /usr/local/lib/python3.7/site-packages (from fiona->rasterstats) (2.5.0)\n",
            "Requirement already satisfied: six>=1.7 in /usr/local/lib/python3.7/site-packages (from fiona->rasterstats) (1.15.0)\n",
            "Requirement already satisfied: oasis in /usr/local/lib/python3.7/site-packages (0.1.2)\n",
            "Requirement already satisfied: tables in /usr/local/lib/python3.7/site-packages (from oasis) (3.6.1)\n",
            "Requirement already satisfied: sklearn in /usr/local/lib/python3.7/site-packages (from oasis) (0.0)\n",
            "Requirement already satisfied: numpy in /usr/local/lib/python3.7/site-packages (from oasis) (1.20.2)\n",
            "Requirement already satisfied: scipy in /usr/local/lib/python3.7/site-packages (from oasis) (1.6.2)\n",
            "Requirement already satisfied: scikit-learn in /usr/local/lib/python3.7/site-packages (from sklearn->oasis) (0.24.1)\n",
            "Requirement already satisfied: threadpoolctl>=2.0.0 in /usr/local/lib/python3.7/site-packages (from scikit-learn->sklearn->oasis) (2.1.0)\n",
            "Requirement already satisfied: joblib>=0.11 in /usr/local/lib/python3.7/site-packages (from scikit-learn->sklearn->oasis) (1.0.1)\n",
            "Requirement already satisfied: numexpr>=2.6.2 in /usr/local/lib/python3.7/site-packages (from tables->oasis) (2.7.3)\n",
            "Requirement already satisfied: netCDF4 in /usr/local/lib/python3.7/site-packages (1.5.6)\n",
            "Requirement already satisfied: cftime in /usr/local/lib/python3.7/site-packages (from netCDF4) (1.4.1)\n",
            "Requirement already satisfied: numpy>=1.9 in /usr/local/lib/python3.7/site-packages (from netCDF4) (1.20.2)\n",
            "Requirement already satisfied: scikit-learn in /usr/local/lib/python3.7/site-packages (0.24.1)\n",
            "Requirement already satisfied: threadpoolctl>=2.0.0 in /usr/local/lib/python3.7/site-packages (from scikit-learn) (2.1.0)\n",
            "Requirement already satisfied: scipy>=0.19.1 in /usr/local/lib/python3.7/site-packages (from scikit-learn) (1.6.2)\n",
            "Requirement already satisfied: joblib>=0.11 in /usr/local/lib/python3.7/site-packages (from scikit-learn) (1.0.1)\n",
            "Requirement already satisfied: numpy>=1.13.3 in /usr/local/lib/python3.7/site-packages (from scikit-learn) (1.20.2)\n",
            "Requirement already satisfied: scikit-image in /usr/local/lib/python3.7/site-packages (0.18.1)\n",
            "Requirement already satisfied: scipy>=1.0.1 in /usr/local/lib/python3.7/site-packages (from scikit-image) (1.6.2)\n",
            "Requirement already satisfied: imageio>=2.3.0 in /usr/local/lib/python3.7/site-packages (from scikit-image) (2.9.0)\n",
            "Requirement already satisfied: PyWavelets>=1.1.1 in /usr/local/lib/python3.7/site-packages (from scikit-image) (1.1.1)\n",
            "Requirement already satisfied: matplotlib!=3.0.0,>=2.0.0 in /usr/local/lib/python3.7/site-packages (from scikit-image) (3.4.1)\n",
            "Requirement already satisfied: pillow!=7.1.0,!=7.1.1,>=4.3.0 in /usr/local/lib/python3.7/site-packages (from scikit-image) (8.2.0)\n",
            "Requirement already satisfied: tifffile>=2019.7.26 in /usr/local/lib/python3.7/site-packages (from scikit-image) (2021.4.8)\n",
            "Requirement already satisfied: numpy>=1.16.5 in /usr/local/lib/python3.7/site-packages (from scikit-image) (1.20.2)\n",
            "Requirement already satisfied: networkx>=2.0 in /usr/local/lib/python3.7/site-packages (from scikit-image) (2.5.1)\n",
            "Requirement already satisfied: kiwisolver>=1.0.1 in /usr/local/lib/python3.7/site-packages (from matplotlib!=3.0.0,>=2.0.0->scikit-image) (1.3.1)\n",
            "Requirement already satisfied: pyparsing>=2.2.1 in /usr/local/lib/python3.7/site-packages (from matplotlib!=3.0.0,>=2.0.0->scikit-image) (2.4.7)\n",
            "Requirement already satisfied: cycler>=0.10 in /usr/local/lib/python3.7/site-packages (from matplotlib!=3.0.0,>=2.0.0->scikit-image) (0.10.0)\n",
            "Requirement already satisfied: python-dateutil>=2.7 in /usr/local/lib/python3.7/site-packages (from matplotlib!=3.0.0,>=2.0.0->scikit-image) (2.8.1)\n",
            "Requirement already satisfied: six in /usr/local/lib/python3.7/site-packages (from cycler>=0.10->matplotlib!=3.0.0,>=2.0.0->scikit-image) (1.15.0)\n",
            "Requirement already satisfied: decorator<5,>=4.3 in /usr/local/lib/python3.7/site-packages (from networkx>=2.0->scikit-image) (4.4.2)\n",
            "Requirement already satisfied: ecmwf-api-client in /usr/local/lib/python3.7/site-packages (1.6.1)\n",
            "Requirement already satisfied: joblib in /usr/local/lib/python3.7/site-packages (1.0.1)\n",
            "Collecting git+https://github.com/MAfarrag/HAPI.git\n",
            "  Cloning https://github.com/MAfarrag/HAPI.git to /tmp/pip-req-build-2u3g4wtj\n",
            "  Running command git clone -q https://github.com/MAfarrag/HAPI.git /tmp/pip-req-build-2u3g4wtj\n"
          ],
          "name": "stdout"
        }
      ]
    },
    {
      "cell_type": "markdown",
      "metadata": {
        "id": "cY-rs6ngeaWs"
      },
      "source": [
        "### Download Data\n",
        "For the data of this case study you have to download this folder [Jiboa Data](https://drive.google.com/drive/folders/1uyd9mH8pHHUKK9l3bc7QXlsu4EPwy3Mr?usp=sharing) from Google Drive and set it as the working directory instead of the Path defined in the next cell"
      ]
    },
    {
      "cell_type": "code",
      "metadata": {
        "id": "d8GNCaxR4dGw"
      },
      "source": [
        "import os\n",
        "Path = \"/content/drive/My Drive/Hapi\"\n",
        "\n",
        "os.chdir(Path)"
      ],
      "execution_count": null,
      "outputs": []
    },
    {
      "cell_type": "markdown",
      "metadata": {
        "id": "9UYKOoK5eaWt"
      },
      "source": [
        "## Import modules"
      ]
    },
    {
      "cell_type": "code",
      "metadata": {
        "colab": {
          "base_uri": "https://localhost:8080/",
          "height": 367
        },
        "id": "hUTUchZneaWv",
        "outputId": "33094cf6-1f30-494f-8f2d-dedc126a320f"
      },
      "source": [
        "import os\n",
        "Path = \"/content/drive/My Drive/coello\"\n",
        "\n",
        "os.chdir(Path)\n",
        "\n",
        "#%library\n",
        "import gdal\n",
        "import datetime as dt\n",
        "import pandas as pd\n",
        "import numpy as np\n",
        "import matplotlib.pyplot as plt\n",
        "\n",
        "# HAPI modules\n",
        "from Hapi.run import RunHAPIwithLake\n",
        "import Hapi.hbv as HBV\n",
        "import Hapi.performancecriteria as Pf\n",
        "import Hapi.raster as Raster"
      ],
      "execution_count": null,
      "outputs": [
        {
          "output_type": "error",
          "ename": "ModuleNotFoundError",
          "evalue": "ignored",
          "traceback": [
            "\u001b[0;31m---------------------------------------------------------------------------\u001b[0m",
            "\u001b[0;31mModuleNotFoundError\u001b[0m                       Traceback (most recent call last)",
            "\u001b[0;32m<ipython-input-17-1631fc881fd3>\u001b[0m in \u001b[0;36m<module>\u001b[0;34m()\u001b[0m\n\u001b[1;32m     12\u001b[0m \u001b[0;34m\u001b[0m\u001b[0m\n\u001b[1;32m     13\u001b[0m \u001b[0;31m# HAPI modules\u001b[0m\u001b[0;34m\u001b[0m\u001b[0;34m\u001b[0m\u001b[0;34m\u001b[0m\u001b[0m\n\u001b[0;32m---> 14\u001b[0;31m \u001b[0;32mfrom\u001b[0m \u001b[0mHapi\u001b[0m\u001b[0;34m.\u001b[0m\u001b[0mrun\u001b[0m \u001b[0;32mimport\u001b[0m \u001b[0mRunHAPIwithLake\u001b[0m\u001b[0;34m\u001b[0m\u001b[0;34m\u001b[0m\u001b[0m\n\u001b[0m\u001b[1;32m     15\u001b[0m \u001b[0;32mimport\u001b[0m \u001b[0mHapi\u001b[0m\u001b[0;34m.\u001b[0m\u001b[0mhbv\u001b[0m \u001b[0;32mas\u001b[0m \u001b[0mHBV\u001b[0m\u001b[0;34m\u001b[0m\u001b[0;34m\u001b[0m\u001b[0m\n\u001b[1;32m     16\u001b[0m \u001b[0;32mimport\u001b[0m \u001b[0mHapi\u001b[0m\u001b[0;34m.\u001b[0m\u001b[0mperformancecriteria\u001b[0m \u001b[0;32mas\u001b[0m \u001b[0mPf\u001b[0m\u001b[0;34m\u001b[0m\u001b[0;34m\u001b[0m\u001b[0m\n",
            "\u001b[0;31mModuleNotFoundError\u001b[0m: No module named 'Hapi'",
            "",
            "\u001b[0;31m---------------------------------------------------------------------------\u001b[0;32m\nNOTE: If your import is failing due to a missing package, you can\nmanually install dependencies using either !pip or !apt.\n\nTo view examples of installing some common dependencies, click the\n\"Open Examples\" button below.\n\u001b[0;31m---------------------------------------------------------------------------\u001b[0m\n"
          ]
        }
      ]
    },
    {
      "cell_type": "code",
      "metadata": {
        "id": "_icyH0yU4ZQA"
      },
      "source": [
        ""
      ],
      "execution_count": null,
      "outputs": []
    },
    {
      "cell_type": "code",
      "metadata": {
        "id": "CZlm3E7TeaW0"
      },
      "source": [
        "# the beginning of the simulation of the calibration data\n",
        "start = dt.datetime(2012,6,14,19,00,00)\n",
        "end = dt.datetime(2014,11,17,00,00,00)\n",
        "calib_end = dt.datetime(2013,12,23,00,00,00)\n",
        "\n",
        "# paths to the meteorological data\n",
        "PrecPath = prec_path = \"inputs/Hapi/meteodata/4000/calib/prec_clipped\"\n",
        "Evap_Path = evap_path = \"inputs/Hapi/meteodata/4000/calib/evap_clipped\"\n",
        "TempPath = temp_path = \"inputs/Hapi/meteodata/4000/calib/temp_clipped\"\n",
        "\n",
        "#DemPath = path+\"GIS/4000/dem4000.tif\"\n",
        "FlowAccPath = \"inputs/Hapi/GIS/4000_matched/acc4000.tif\"\n",
        "FlowDPath = \"inputs/Hapi/GIS/4000_matched/fd4000.tif\"\n",
        "ParPath = \"inputs/Hapi/meteodata/4000/parameters/\"\n",
        "#ParPath = \"inputs/Hapi/meteodata/4000/\"+\"parameters.txt\"\n",
        "Paths=[PrecPath, Evap_Path, TempPath, FlowAccPath, FlowDPath, ]"
      ],
      "execution_count": null,
      "outputs": []
    },
    {
      "cell_type": "code",
      "metadata": {
        "id": "R8zrDjIueaW5"
      },
      "source": [
        "\n",
        "#p2=[24, 1530]\n",
        "#init_st=[0,5,5,5,0]\n",
        "init_st = np.loadtxt(\"inputs/Hapi/meteodata/Initia-jiboa.txt\", usecols=0).tolist()\n",
        "snow = 0\n",
        "\n",
        "\n",
        "# lake meteorological data\n",
        "ind = pd.date_range(start, end, freq = \"H\" )\n",
        "lakedata = pd.read_csv(\"inputs/Hapi/meteodata/lakedata.csv\", index_col = 0)\n",
        "lakedata.index = ind\n",
        "lakeCalib = lakedata.loc[start:calib_end]\n",
        "lakeValid = lakedata.loc[calib_end:end]\n",
        "# convert the dataframe into array\n",
        "lakeCalibArray = lakeCalib.values\n",
        "# take only the plake, et, t and tm columns and exclude the last column\n",
        "lakeCalibArray = lakeCalibArray[:,0:-1]\n",
        "\n",
        "# where the lake discharges its flow (give the indices of the cell)\n",
        "lakecell = [2,1]    # 4km\n",
        "#lakecell = [4,2]    # 2km\n",
        "#lakecell = [10,4]    # 1km\n",
        "#lakecell = [19,10]    # 500m\n",
        "\n",
        "LakeParameters = np.loadtxt(\"inputs/Hapi/meteodata/4000/Lakeparameters.txt\").tolist()\n",
        "StageDischargeCurve = np.loadtxt(\"inputs/Hapi/meteodata/curve.txt\")\n",
        "p2 = [1, 227.31, 133.98, 70.64]\n",
        "Lake_init_st = np.loadtxt(\"inputs/Hapi/meteodata/Initia-lake.txt\", usecols=0).tolist()"
      ],
      "execution_count": null,
      "outputs": []
    },
    {
      "cell_type": "markdown",
      "metadata": {
        "id": "I5OdyI_KeaW9"
      },
      "source": [
        "# Run the model"
      ]
    },
    {
      "cell_type": "code",
      "metadata": {
        "colab": {
          "base_uri": "https://localhost:8080/",
          "height": 34
        },
        "id": "Brso_XrwiVvV",
        "outputId": "fc7852a1-7640-496a-98a5-86d9d6503ef3"
      },
      "source": [
        "os.getcwd()"
      ],
      "execution_count": null,
      "outputs": [
        {
          "output_type": "execute_result",
          "data": {
            "text/plain": [
              "'/content/drive/My Drive'"
            ]
          },
          "metadata": {
            "tags": []
          },
          "execution_count": 12
        }
      ]
    },
    {
      "cell_type": "code",
      "metadata": {
        "colab": {
          "base_uri": "https://localhost:8080/",
          "height": 34
        },
        "id": "mYZRWMT0idd8",
        "outputId": "c0bb0eaa-99a0-4ce3-e122-cfff72b8df01"
      },
      "source": [
        "os.listdir()"
      ],
      "execution_count": null,
      "outputs": [
        {
          "output_type": "execute_result",
          "data": {
            "text/plain": [
              "['Hapi', 'Jiboa.mxd', 'web application', 'processing', 'inputs', 'results.zip']"
            ]
          },
          "metadata": {
            "tags": []
          },
          "execution_count": 13
        }
      ]
    },
    {
      "cell_type": "code",
      "metadata": {
        "id": "5xivVaDweaW-"
      },
      "source": [
        "Sim =pd.DataFrame(index = lakeCalib.index)\n",
        "st, Sim['Q'], q_uz_routed, q_lz_trans = RunHAPIwithLake(HBV, Paths, ParPath, p2, init_st,\n",
        "                                                     snow, lakeCalibArray, StageDischargeCurve,\n",
        "                                                     LakeParameters, lakecell,Lake_init_st)"
      ],
      "execution_count": null,
      "outputs": []
    },
    {
      "cell_type": "markdown",
      "metadata": {
        "id": "kK8Ip1ZkeaXC"
      },
      "source": [
        "### Evaluate model performance"
      ]
    },
    {
      "cell_type": "code",
      "metadata": {
        "id": "60mTcaPveaXD"
      },
      "source": [
        "WS = {}\n",
        "WS['type'] = 1\n",
        "WS['N'] = 3\n",
        "ModelMetrics=dict()\n",
        "ModelMetrics['CalibErrorHf']=Pf.RMSEHF(lakeCalib['Q'],Sim['Q'],WS['type'],WS['N'],0.75)\n",
        "ModelMetrics['CalibErrorLf']=Pf.RMSELF(lakeCalib['Q'],Sim['Q'],WS['type'],WS['N'],0.75)\n",
        "ModelMetrics['CalibNSEHf']=Pf.NSE(lakeCalib['Q'],Sim['Q'])\n",
        "ModelMetrics['CalibNSELf']=Pf.NSE(np.log(lakeCalib['Q']),np.log(Sim['Q']))\n",
        "ModelMetrics['CalibRMSE']=Pf.RMSE(lakeCalib['Q'],Sim['Q'])\n",
        "ModelMetrics['CalibKGE']=Pf.KGE(lakeCalib['Q'],Sim['Q'])\n",
        "ModelMetrics['CalibWB']=Pf.WB(lakeCalib['Q'],Sim['Q'])\n",
        "print(\"RMSE(HF) = \" + str(round(ModelMetrics['CalibErrorHf'],2)))\n",
        "print(\"RMSE(LF) = \" + str(round(ModelMetrics['CalibErrorLf'],2)))\n",
        "print(\"RMSE = \" + str(round(ModelMetrics['CalibRMSE'],2)))\n",
        "print(\"NSE(HF) = \" + str(round(ModelMetrics['CalibNSEHf'],2)))\n",
        "print(\"NSE(LF) = \" + str(round(ModelMetrics['CalibNSELf'],2)))\n",
        "print(\"KGE = \" + str(round(ModelMetrics['CalibKGE'],2)))\n",
        "print(\"WB = \" + str(round(ModelMetrics['CalibWB'],2)))"
      ],
      "execution_count": null,
      "outputs": []
    },
    {
      "cell_type": "code",
      "metadata": {
        "id": "fvcFNEc5eaXG"
      },
      "source": [
        "plt.figure(50,figsize=(15,8))\n",
        "Sim.Q.plot(color=[(0,0.3,0.7)],linewidth=2.5,label=\"Simulated data\", zorder = 10)\n",
        "ax1=lakeCalib['Q'].plot(color='#DC143C',linewidth=2.8,label='Observed data')\n",
        "ax1.annotate(\"Model performance\" ,xy=('2012-12-01 00:00:00',20),fontsize=15)\n",
        "ax1.annotate(\"RMSE = \" + str(round(ModelMetrics['CalibRMSE'],3)),xy=('2012-12-01 00:00:00',20-1.5),fontsize=15)\n",
        "ax1.annotate(\"NSE = \" + str(round(ModelMetrics['CalibNSEHf'],2)),xy=('2012-12-01 00:00:00',20-3),fontsize=15)\n",
        "plt.legend()"
      ],
      "execution_count": null,
      "outputs": []
    },
    {
      "cell_type": "markdown",
      "metadata": {
        "id": "nTZ63xgeeaXL"
      },
      "source": [
        "# Store the result into rasters"
      ]
    },
    {
      "cell_type": "code",
      "metadata": {
        "id": "Z_xSCCvJeaXL"
      },
      "source": [
        "# create list of names\n",
        "src=gdal.Open(FlowAccPath)\n",
        "\n",
        "index=pd.date_range(start,calib_end,freq=\"1H\")\n",
        "\n",
        "resultspath=\"results/upper_zone_discharge/4000/\"\n",
        "names=[resultspath+str(i)[:-6] for i in index]\n",
        "names=[i.replace(\"-\",\"_\") for i in names]\n",
        "names=[i.replace(\" \",\"_\") for i in names]\n",
        "names=[i+\".tif\" for i in names]\n",
        "\n",
        "\n",
        "Raster.RastersLike(src,q_uz_routed[:,:,:-1],names)\n"
      ],
      "execution_count": null,
      "outputs": []
    }
  ]
}